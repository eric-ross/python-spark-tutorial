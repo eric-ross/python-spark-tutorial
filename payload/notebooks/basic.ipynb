{
 "cells": [
  {
   "cell_type": "code",
   "execution_count": 1,
   "metadata": {},
   "outputs": [],
   "source": [
    "# Configure the necessary Spark environment\n",
    "import os\n",
    "import sys\n",
    "\n",
    "spark_home = os.environ.get('SPARK_HOME', None)\n",
    "sys.path.insert(0, spark_home + \"/python\")\n",
    "\n",
    "# Add the py4j to the path.\n",
    "# You may need to change the version number to match your install -- currently using spark 2.4\n",
    "sys.path.insert(0, os.path.join(spark_home, 'python/lib/py4j-0.10.7-src.zip'))\n",
    "\n",
    "#os.environ['PYSPARK_SUBMIT_ARGS']=\"--jars /work/ericr/spark/sparkdev/postgresql.jar --executor-memory 40g --executor-cores 16 pyspark-shell\"\n",
    "\n",
    "# Initialize PySpark to predefine the SparkContext variable 'sc'\n",
    "#execfile(os.path.join(spark_home, 'python/pyspark/shell.py'))"
   ]
  },
  {
   "cell_type": "code",
   "execution_count": 34,
   "metadata": {},
   "outputs": [],
   "source": [
    "from pyspark.sql import SparkSession, SQLContext\n",
    "from pyspark.sql.functions import flatten, explode, col\n",
    "import json\n"
   ]
  },
  {
   "cell_type": "code",
   "execution_count": 4,
   "metadata": {},
   "outputs": [],
   "source": [
    "spark = SparkSession.builder.appName('Basic').config(\"spark.executor.extraJavaOptions\",\"--executor-memory 40G --executor-cores 40 --driver-class-path $SPARK_HOME/postgresql.jar\").getOrCreate()"
   ]
  },
  {
   "cell_type": "code",
   "execution_count": 5,
   "metadata": {},
   "outputs": [],
   "source": [
    "dbconfig = {\"url\": \"jdbc:postgresql://localhost/qxedb\",\n",
    "            \"dbtable\": \"gateway_eventnotification\",\n",
    "            \"user\": \"hermes\",\n",
    "            \"password\": \"mysecret\",\n",
    "            \"driver\": \"org.postgresql.Driver\"}"
   ]
  },
  {
   "cell_type": "code",
   "execution_count": 6,
   "metadata": {},
   "outputs": [
    {
     "data": {
      "text/html": [
       "\n",
       "            <div>\n",
       "                <p><b>SparkSession - in-memory</b></p>\n",
       "                \n",
       "        <div>\n",
       "            <p><b>SparkContext</b></p>\n",
       "\n",
       "            <p><a href=\"http://lnxvcer11.vcs.rd.hpicorp.net:4040\">Spark UI</a></p>\n",
       "\n",
       "            <dl>\n",
       "              <dt>Version</dt>\n",
       "                <dd><code>v2.4.0</code></dd>\n",
       "              <dt>Master</dt>\n",
       "                <dd><code>local[*]</code></dd>\n",
       "              <dt>AppName</dt>\n",
       "                <dd><code>Basic</code></dd>\n",
       "            </dl>\n",
       "        </div>\n",
       "        \n",
       "            </div>\n",
       "        "
      ],
      "text/plain": [
       "<pyspark.sql.session.SparkSession at 0x7fba9f1d9f98>"
      ]
     },
     "execution_count": 6,
     "metadata": {},
     "output_type": "execute_result"
    }
   ],
   "source": [
    "spark"
   ]
  },
  {
   "cell_type": "code",
   "execution_count": 7,
   "metadata": {},
   "outputs": [],
   "source": [
    "df = spark.read.jdbc(url=\"jdbc:postgresql://localhost/qxedb\", \n",
    "                      table=\"gateway_eventnotification\",\n",
    "                      properties=dbconfig)"
   ]
  },
  {
   "cell_type": "code",
   "execution_count": 8,
   "metadata": {},
   "outputs": [],
   "source": [
    "sqlcontext = SQLContext(spark.sparkContext)"
   ]
  },
  {
   "cell_type": "code",
   "execution_count": 9,
   "metadata": {},
   "outputs": [
    {
     "name": "stdout",
     "output_type": "stream",
     "text": [
      "root\n",
      " |-- id: integer (nullable = true)\n",
      " |-- payload: string (nullable = true)\n",
      " |-- event_category_id: string (nullable = true)\n",
      " |-- table_data: string (nullable = true)\n",
      "\n"
     ]
    }
   ],
   "source": [
    "df.printSchema()"
   ]
  },
  {
   "cell_type": "code",
   "execution_count": 10,
   "metadata": {},
   "outputs": [],
   "source": [
    "payload_df = sqlcontext.read.json(df.rdd.map(lambda r: r.payload))"
   ]
  },
  {
   "cell_type": "code",
   "execution_count": 11,
   "metadata": {},
   "outputs": [
    {
     "name": "stdout",
     "output_type": "stream",
     "text": [
      "root\n",
      " |-- data_type: string (nullable = true)\n",
      " |-- events: array (nullable = true)\n",
      " |    |-- element: struct (containsNull = true)\n",
      " |    |    |-- dateTime: string (nullable = true)\n",
      " |    |    |-- eventCategory: string (nullable = true)\n",
      " |    |    |-- eventDetail: struct (nullable = true)\n",
      " |    |    |    |-- brand: string (nullable = true)\n",
      " |    |    |    |-- connectionInfo: struct (nullable = true)\n",
      " |    |    |    |    |-- localIpv4Address: struct (nullable = true)\n",
      " |    |    |    |    |    |-- addr: string (nullable = true)\n",
      " |    |    |    |    |    |-- subnetMask: string (nullable = true)\n",
      " |    |    |    |    |-- sourceInSameSubnet: string (nullable = true)\n",
      " |    |    |    |    |-- sourceIpv4Address: struct (nullable = true)\n",
      " |    |    |    |    |    |-- addr: string (nullable = true)\n",
      " |    |    |    |    |    |-- subnetMask: string (nullable = true)\n",
      " |    |    |    |    |-- sourceIpv6Address: struct (nullable = true)\n",
      " |    |    |    |    |    |-- addr: string (nullable = true)\n",
      " |    |    |    |    |-- sourceMacAddress: string (nullable = true)\n",
      " |    |    |    |-- connectionState: string (nullable = true)\n",
      " |    |    |    |-- connectionStateCurrent: long (nullable = true)\n",
      " |    |    |    |-- connectionStateMax: long (nullable = true)\n",
      " |    |    |    |-- connectionStateMin: long (nullable = true)\n",
      " |    |    |    |-- consumableLabelCode: string (nullable = true)\n",
      " |    |    |    |-- consumableManufacturingSignature: string (nullable = true)\n",
      " |    |    |    |-- consumablePercentageLevelRemaining: long (nullable = true)\n",
      " |    |    |    |-- consumableProductNumber: string (nullable = true)\n",
      " |    |    |    |-- consumableSerialNumber: string (nullable = true)\n",
      " |    |    |    |-- consumableState: string (nullable = true)\n",
      " |    |    |    |-- consumableUniqueId: string (nullable = true)\n",
      " |    |    |    |-- dataSource: string (nullable = true)\n",
      " |    |    |    |-- domainConfig: struct (nullable = true)\n",
      " |    |    |    |    |-- domainName: string (nullable = true)\n",
      " |    |    |    |    |-- hostName: string (nullable = true)\n",
      " |    |    |    |    |-- nameServerConfig: struct (nullable = true)\n",
      " |    |    |    |    |    |-- ipv4Addresses: array (nullable = true)\n",
      " |    |    |    |    |    |    |-- element: struct (containsNull = true)\n",
      " |    |    |    |    |    |    |    |-- addr: string (nullable = true)\n",
      " |    |    |    |    |    |-- ipv6Addresses: array (nullable = true)\n",
      " |    |    |    |    |    |    |-- element: struct (containsNull = true)\n",
      " |    |    |    |    |    |    |    |-- addr: string (nullable = true)\n",
      " |    |    |    |    |-- searchDomains: array (nullable = true)\n",
      " |    |    |    |    |    |-- element: string (containsNull = true)\n",
      " |    |    |    |-- downloadDuration: long (nullable = true)\n",
      " |    |    |    |-- dustLevel: long (nullable = true)\n",
      " |    |    |    |-- errorCategory: string (nullable = true)\n",
      " |    |    |    |-- errorCode: string (nullable = true)\n",
      " |    |    |    |-- errorType: string (nullable = true)\n",
      " |    |    |    |-- eventCategory: string (nullable = true)\n",
      " |    |    |    |-- eventCode: string (nullable = true)\n",
      " |    |    |    |-- eventDetailAssert: struct (nullable = true)\n",
      " |    |    |    |    |-- eventCode: string (nullable = true)\n",
      " |    |    |    |    |-- eventOccurrences: long (nullable = true)\n",
      " |    |    |    |-- eventDetailConsumable: struct (nullable = true)\n",
      " |    |    |    |    |-- brand: string (nullable = true)\n",
      " |    |    |    |    |-- consumableLabelCode: string (nullable = true)\n",
      " |    |    |    |    |-- consumablePercentageLevelRemaining: long (nullable = true)\n",
      " |    |    |    |    |-- consumableProductNumber: string (nullable = true)\n",
      " |    |    |    |    |-- consumableSerialNumber: string (nullable = true)\n",
      " |    |    |    |    |-- consumableState: string (nullable = true)\n",
      " |    |    |    |    |-- consumableUniqueId: string (nullable = true)\n",
      " |    |    |    |    |-- eventTrigger: string (nullable = true)\n",
      " |    |    |    |    |-- installDate: string (nullable = true)\n",
      " |    |    |    |    |-- isRefilled: string (nullable = true)\n",
      " |    |    |    |    |-- isSetup: string (nullable = true)\n",
      " |    |    |    |    |-- isTrial: string (nullable = true)\n",
      " |    |    |    |    |-- manufactureDate: string (nullable = true)\n",
      " |    |    |    |    |-- manufacturer: string (nullable = true)\n",
      " |    |    |    |    |-- measuredQuantityState: string (nullable = true)\n",
      " |    |    |    |    |-- midLabel: string (nullable = true)\n",
      " |    |    |    |    |-- prevCartridge: struct (nullable = true)\n",
      " |    |    |    |    |    |-- consumablePercentageLevelRemaining: long (nullable = true)\n",
      " |    |    |    |    |    |-- consumableUniqueId: string (nullable = true)\n",
      " |    |    |    |    |-- stID: string (nullable = true)\n",
      " |    |    |    |    |-- triggerCategory: string (nullable = true)\n",
      " |    |    |    |    |-- version: string (nullable = true)\n",
      " |    |    |    |-- eventDetailErrorRecovery: struct (nullable = true)\n",
      " |    |    |    |    |-- jobErrorRecovery: struct (nullable = true)\n",
      " |    |    |    |    |    |-- errorType: string (nullable = true)\n",
      " |    |    |    |    |    |-- failureReason: string (nullable = true)\n",
      " |    |    |    |    |    |-- recoveryState: string (nullable = true)\n",
      " |    |    |    |    |-- version: string (nullable = true)\n",
      " |    |    |    |-- eventDetailJobStatus: struct (nullable = true)\n",
      " |    |    |    |    |-- eventCode: string (nullable = true)\n",
      " |    |    |    |    |-- eventOccurrences: long (nullable = true)\n",
      " |    |    |    |-- eventDetailSystemError: struct (nullable = true)\n",
      " |    |    |    |    |-- errorCategory: string (nullable = true)\n",
      " |    |    |    |    |-- eventCode: string (nullable = true)\n",
      " |    |    |    |    |-- version: string (nullable = true)\n",
      " |    |    |    |-- eventDetailType: string (nullable = true)\n",
      " |    |    |    |-- eventIntArray: array (nullable = true)\n",
      " |    |    |    |    |-- element: long (containsNull = true)\n",
      " |    |    |    |-- eventOccurrences: long (nullable = true)\n",
      " |    |    |    |-- eventTrigger: string (nullable = true)\n",
      " |    |    |    |-- eventTriggerReason: string (nullable = true)\n",
      " |    |    |    |-- event_code: string (nullable = true)\n",
      " |    |    |    |-- firmwareAssert: struct (nullable = true)\n",
      " |    |    |    |    |-- app: string (nullable = true)\n",
      " |    |    |    |    |-- code: string (nullable = true)\n",
      " |    |    |    |    |-- file: string (nullable = true)\n",
      " |    |    |    |    |-- fileCrc: string (nullable = true)\n",
      " |    |    |    |    |-- firmwareVersion: string (nullable = true)\n",
      " |    |    |    |    |-- line: long (nullable = true)\n",
      " |    |    |    |    |-- type: string (nullable = true)\n",
      " |    |    |    |-- firmwareVersion: string (nullable = true)\n",
      " |    |    |    |-- fmpRegexCandidate: string (nullable = true)\n",
      " |    |    |    |-- freeMobilePhotoInfo: struct (nullable = true)\n",
      " |    |    |    |    |-- fmpCounted: string (nullable = true)\n",
      " |    |    |    |    |-- fmpMaxLength: long (nullable = true)\n",
      " |    |    |    |    |-- fmpMaxWidth: long (nullable = true)\n",
      " |    |    |    |    |-- fmpPageCount: long (nullable = true)\n",
      " |    |    |    |    |-- fmpPages: string (nullable = true)\n",
      " |    |    |    |    |-- nonFmpPageCount: long (nullable = true)\n",
      " |    |    |    |    |-- nonFmpPages: string (nullable = true)\n",
      " |    |    |    |-- fwAssert: struct (nullable = true)\n",
      " |    |    |    |    |-- app: string (nullable = true)\n",
      " |    |    |    |    |-- code: string (nullable = true)\n",
      " |    |    |    |    |-- file: string (nullable = true)\n",
      " |    |    |    |    |-- fileCrc: string (nullable = true)\n",
      " |    |    |    |    |-- firmwareVersion: string (nullable = true)\n",
      " |    |    |    |    |-- line: long (nullable = true)\n",
      " |    |    |    |    |-- type: string (nullable = true)\n",
      " |    |    |    |-- hasUsedNonHp: string (nullable = true)\n",
      " |    |    |    |-- httpUserAgent: string (nullable = true)\n",
      " |    |    |    |-- inkFillCapacity: long (nullable = true)\n",
      " |    |    |    |-- inkLevelGauge: long (nullable = true)\n",
      " |    |    |    |-- inkLevelSensorValue: long (nullable = true)\n",
      " |    |    |    |-- installDate: string (nullable = true)\n",
      " |    |    |    |-- installDuration: long (nullable = true)\n",
      " |    |    |    |-- ippJobStatus: struct (nullable = true)\n",
      " |    |    |    |    |-- dateTimeAtCompleted: string (nullable = true)\n",
      " |    |    |    |    |-- dateTimeAtCreation: string (nullable = true)\n",
      " |    |    |    |    |-- dateTimeAtProcessing: string (nullable = true)\n",
      " |    |    |    |    |-- jobDocumentAccessErrors: string (nullable = true)\n",
      " |    |    |    |    |-- jobImpressions: long (nullable = true)\n",
      " |    |    |    |    |-- jobImpressionsCompleted: long (nullable = true)\n",
      " |    |    |    |    |-- jobKOctets: long (nullable = true)\n",
      " |    |    |    |    |-- jobKOctetsProcessed: long (nullable = true)\n",
      " |    |    |    |    |-- jobMediaSheets: long (nullable = true)\n",
      " |    |    |    |    |-- jobMediaSheetsCompleted: long (nullable = true)\n",
      " |    |    |    |    |-- jobName: string (nullable = true)\n",
      " |    |    |    |    |-- jobOriginatingUserName: string (nullable = true)\n",
      " |    |    |    |    |-- jobPrinterURI: string (nullable = true)\n",
      " |    |    |    |    |-- jobPrinterUpTime: long (nullable = true)\n",
      " |    |    |    |    |-- jobPrinterUri: string (nullable = true)\n",
      " |    |    |    |    |-- jobState: string (nullable = true)\n",
      " |    |    |    |    |-- jobStateMessage: string (nullable = true)\n",
      " |    |    |    |    |-- jobStateReasons: string (nullable = true)\n",
      " |    |    |    |    |-- jobURI: string (nullable = true)\n",
      " |    |    |    |    |-- jobUri: string (nullable = true)\n",
      " |    |    |    |    |-- jobUuid: string (nullable = true)\n",
      " |    |    |    |-- ippMediaSize: struct (nullable = true)\n",
      " |    |    |    |    |-- xDimension: long (nullable = true)\n",
      " |    |    |    |    |-- yDimension: long (nullable = true)\n",
      " |    |    |    |-- isInstantInkSubscription: string (nullable = true)\n",
      " |    |    |    |-- isRefilled: string (nullable = true)\n",
      " |    |    |    |-- isSetup: string (nullable = true)\n",
      " |    |    |    |-- isTrial: string (nullable = true)\n",
      " |    |    |    |-- jobErrorRecovery: struct (nullable = true)\n",
      " |    |    |    |    |-- errorType: string (nullable = true)\n",
      " |    |    |    |    |-- failureReason: string (nullable = true)\n",
      " |    |    |    |    |-- jobRecovery: string (nullable = true)\n",
      " |    |    |    |    |-- recoveryState: string (nullable = true)\n",
      " |    |    |    |    |-- version: string (nullable = true)\n",
      " |    |    |    |-- jobRecovery: string (nullable = true)\n",
      " |    |    |    |-- jobType: string (nullable = true)\n",
      " |    |    |    |-- job_type: string (nullable = true)\n",
      " |    |    |    |-- key: string (nullable = true)\n",
      " |    |    |    |-- linkStats: struct (nullable = true)\n",
      " |    |    |    |    |-- rxDropped: long (nullable = true)\n",
      " |    |    |    |    |-- rxErrors: long (nullable = true)\n",
      " |    |    |    |    |-- rxErros: long (nullable = true)\n",
      " |    |    |    |    |-- rxPackets: long (nullable = true)\n",
      " |    |    |    |    |-- txDropped: long (nullable = true)\n",
      " |    |    |    |    |-- txErrors: long (nullable = true)\n",
      " |    |    |    |    |-- txPackets: long (nullable = true)\n",
      " |    |    |    |-- makeAndModel: string (nullable = true)\n",
      " |    |    |    |-- manufactureDate: string (nullable = true)\n",
      " |    |    |    |-- manufacturer: string (nullable = true)\n",
      " |    |    |    |-- measuredQuantityState: string (nullable = true)\n",
      " |    |    |    |-- midLabel: string (nullable = true)\n",
      " |    |    |    |-- modelNumber: string (nullable = true)\n",
      " |    |    |    |-- networkConfig: struct (nullable = true)\n",
      " |    |    |    |    |-- ipv4Address: struct (nullable = true)\n",
      " |    |    |    |    |    |-- addr: string (nullable = true)\n",
      " |    |    |    |    |    |-- subnetMask: string (nullable = true)\n",
      " |    |    |    |    |-- ipv4Gateway: string (nullable = true)\n",
      " |    |    |    |    |-- ipv6Addresses: array (nullable = true)\n",
      " |    |    |    |    |    |-- element: struct (containsNull = true)\n",
      " |    |    |    |    |    |    |-- addr: string (nullable = true)\n",
      " |    |    |    |    |-- ipv6Gateway: string (nullable = true)\n",
      " |    |    |    |-- networkInterfaceName: string (nullable = true)\n",
      " |    |    |    |-- networkInterfaceType: string (nullable = true)\n",
      " |    |    |    |-- penStatus: string (nullable = true)\n",
      " |    |    |    |-- postStartupSupplyVolume: long (nullable = true)\n",
      " |    |    |    |-- prevCartridge: struct (nullable = true)\n",
      " |    |    |    |    |-- consumablePercentageLevelRemaining: long (nullable = true)\n",
      " |    |    |    |    |-- consumableUniqueId: string (nullable = true)\n",
      " |    |    |    |-- previousCartridge: struct (nullable = true)\n",
      " |    |    |    |    |-- consumablePercentageLevelRemaining: long (nullable = true)\n",
      " |    |    |    |    |-- consumableUniqueId: string (nullable = true)\n",
      " |    |    |    |-- previousFwVersion: string (nullable = true)\n",
      " |    |    |    |-- printInfo: struct (nullable = true)\n",
      " |    |    |    |    |-- duplex: string (nullable = true)\n",
      " |    |    |    |    |-- jobImpressionCompleted: long (nullable = true)\n",
      " |    |    |    |    |-- jobImpressionsCompleted: long (nullable = true)\n",
      " |    |    |    |    |-- mediaSizeDetected: struct (nullable = true)\n",
      " |    |    |    |    |    |-- xDimension: long (nullable = true)\n",
      " |    |    |    |    |    |-- yDimension: long (nullable = true)\n",
      " |    |    |    |    |-- mediaSizeRequested: struct (nullable = true)\n",
      " |    |    |    |    |    |-- xDimension: long (nullable = true)\n",
      " |    |    |    |    |    |-- yDimension: long (nullable = true)\n",
      " |    |    |    |    |-- mediaType: string (nullable = true)\n",
      " |    |    |    |    |-- printMode: string (nullable = true)\n",
      " |    |    |    |-- printerRegion: long (nullable = true)\n",
      " |    |    |    |-- productId: string (nullable = true)\n",
      " |    |    |    |-- reason: string (nullable = true)\n",
      " |    |    |    |-- scanInfo: struct (nullable = true)\n",
      " |    |    |    |    |-- duplex: string (nullable = true)\n",
      " |    |    |    |    |-- mediaSizeDetected: struct (nullable = true)\n",
      " |    |    |    |    |    |-- height: long (nullable = true)\n",
      " |    |    |    |    |-- mediaSizeRequested: struct (nullable = true)\n",
      " |    |    |    |    |    |-- height: long (nullable = true)\n",
      " |    |    |    |    |    |-- width: long (nullable = true)\n",
      " |    |    |    |-- selectabilityNumber: string (nullable = true)\n",
      " |    |    |    |-- selfHeal: struct (nullable = true)\n",
      " |    |    |    |    |-- actions: array (nullable = true)\n",
      " |    |    |    |    |    |-- element: string (containsNull = true)\n",
      " |    |    |    |    |-- results: array (nullable = true)\n",
      " |    |    |    |    |    |-- element: string (containsNull = true)\n",
      " |    |    |    |    |-- selfHealVersion: string (nullable = true)\n",
      " |    |    |    |-- selfheal: struct (nullable = true)\n",
      " |    |    |    |    |-- actions: array (nullable = true)\n",
      " |    |    |    |    |    |-- element: string (containsNull = true)\n",
      " |    |    |    |    |-- results: array (nullable = true)\n",
      " |    |    |    |    |    |-- element: string (containsNull = true)\n",
      " |    |    |    |    |-- selfhealTest: string (nullable = true)\n",
      " |    |    |    |-- sequenceNumber: long (nullable = true)\n",
      " |    |    |    |-- serialNumber: string (nullable = true)\n",
      " |    |    |    |-- stID: string (nullable = true)\n",
      " |    |    |    |-- stId: string (nullable = true)\n",
      " |    |    |    |-- stateEnabled: boolean (nullable = true)\n",
      " |    |    |    |-- stateStabilisationDelay: long (nullable = true)\n",
      " |    |    |    |-- supplyFamilyId: long (nullable = true)\n",
      " |    |    |    |-- supplyMarkedEmpty: string (nullable = true)\n",
      " |    |    |    |-- supplyModelNumber: long (nullable = true)\n",
      " |    |    |    |-- supplyRegion: long (nullable = true)\n",
      " |    |    |    |-- supplyType: long (nullable = true)\n",
      " |    |    |    |-- t4: long (nullable = true)\n",
      " |    |    |    |-- totalInkUsageGauge: long (nullable = true)\n",
      " |    |    |    |-- triggerCategory: string (nullable = true)\n",
      " |    |    |    |-- uapConfig: struct (nullable = true)\n",
      " |    |    |    |    |-- adminDisabled: string (nullable = true)\n",
      " |    |    |    |    |-- powered: string (nullable = true)\n",
      " |    |    |    |-- updateMethod: string (nullable = true)\n",
      " |    |    |    |-- updateSuccess: string (nullable = true)\n",
      " |    |    |    |-- updateTriggerReason: string (nullable = true)\n",
      " |    |    |    |-- updatedFwVersion: string (nullable = true)\n",
      " |    |    |    |-- userConfig: struct (nullable = true)\n",
      " |    |    |    |    |-- adminDisabled: string (nullable = true)\n",
      " |    |    |    |    |-- changeCounter: long (nullable = true)\n",
      " |    |    |    |    |-- ipv4ConfigMethod: string (nullable = true)\n",
      " |    |    |    |    |-- ipv4Enabled: string (nullable = true)\n",
      " |    |    |    |    |-- ipv6ConfigMethod: string (nullable = true)\n",
      " |    |    |    |    |-- ipv6Enabled: string (nullable = true)\n",
      " |    |    |    |    |-- passwdChanged: string (nullable = true)\n",
      " |    |    |    |    |-- powered: string (nullable = true)\n",
      " |    |    |    |    |-- ssid: string (nullable = true)\n",
      " |    |    |    |-- versio: string (nullable = true)\n",
      " |    |    |    |-- version: string (nullable = true)\n",
      " |    |    |    |-- wifiConfig: struct (nullable = true)\n",
      " |    |    |    |    |-- associatedBssid: string (nullable = true)\n",
      " |    |    |    |    |-- chanGraph: array (nullable = true)\n",
      " |    |    |    |    |    |-- element: struct (containsNull = true)\n",
      " |    |    |    |    |    |    |-- anpi: long (nullable = true)\n",
      " |    |    |    |    |    |    |-- channel: long (nullable = true)\n",
      " |    |    |    |    |    |    |-- loadPercent: long (nullable = true)\n",
      " |    |    |    |    |    |    |-- percentLoad: long (nullable = true)\n",
      " |    |    |    |    |-- channelGraphs: array (nullable = true)\n",
      " |    |    |    |    |    |-- element: struct (containsNull = true)\n",
      " |    |    |    |    |    |    |-- anpi: long (nullable = true)\n",
      " |    |    |    |    |    |    |-- channel: long (nullable = true)\n",
      " |    |    |    |    |    |    |-- percentLoad: long (nullable = true)\n",
      " |    |    |    |    |-- channelInfos: array (nullable = true)\n",
      " |    |    |    |    |    |-- element: struct (containsNull = true)\n",
      " |    |    |    |    |    |    |-- channel: long (nullable = true)\n",
      " |    |    |    |    |    |    |-- signalAverage: long (nullable = true)\n",
      " |    |    |    |    |    |    |-- signalMax: long (nullable = true)\n",
      " |    |    |    |    |    |    |-- signalMin: long (nullable = true)\n",
      " |    |    |    |    |    |    |-- singalAverage: long (nullable = true)\n",
      " |    |    |    |    |    |    |-- singalMax: long (nullable = true)\n",
      " |    |    |    |    |    |    |-- singalMin: long (nullable = true)\n",
      " |    |    |    |    |    |    |-- ssidsCount: long (nullable = true)\n",
      " |    |    |    |    |-- directedScanCount: long (nullable = true)\n",
      " |    |    |    |    |-- lastAssociationCode: string (nullable = true)\n",
      " |    |    |    |    |-- lastDeauthReason: long (nullable = true)\n",
      " |    |    |    |    |-- signalQuality: struct (nullable = true)\n",
      " |    |    |    |    |    |-- noise: long (nullable = true)\n",
      " |    |    |    |    |    |-- strength: long (nullable = true)\n",
      " |    |    |    |    |-- undirectedScanCount: long (nullable = true)\n",
      " |    |    |-- eventDetailType: string (nullable = true)\n",
      " |    |    |-- onDurationTime (sec): long (nullable = true)\n",
      " |    |    |-- powerCycleCount: long (nullable = true)\n",
      " |    |    |-- sequenceNumber: long (nullable = true)\n",
      " |-- henq_metadata: struct (nullable = true)\n",
      " |    |-- dateTimeReceived: string (nullable = true)\n",
      " |    |-- geolocation: string (nullable = true)\n",
      " |    |-- ip_addr: string (nullable = true)\n",
      " |-- links: array (nullable = true)\n",
      " |    |-- element: struct (containsNull = true)\n",
      " |    |    |-- href: string (nullable = true)\n",
      " |    |    |-- rel: string (nullable = true)\n",
      " |-- metadata: struct (nullable = true)\n",
      " |    |-- ackToken: string (nullable = true)\n",
      " |-- originator: struct (nullable = true)\n",
      " |    |-- originatorDetail: struct (nullable = true)\n",
      " |    |    |-- activity: struct (nullable = true)\n",
      " |    |    |    |-- currentDateTime: string (nullable = true)\n",
      " |    |    |-- deviceUuid: string (nullable = true)\n",
      " |    |    |-- firmwareVersion: string (nullable = true)\n",
      " |    |    |-- modelNumber: string (nullable = true)\n",
      " |    |    |-- serialNumber: string (nullable = true)\n",
      " |    |    |-- version: string (nullable = true)\n",
      " |    |-- originatorDetailType: string (nullable = true)\n",
      " |-- payloadManifestJec: string (nullable = true)\n",
      " |-- subscriptionId: string (nullable = true)\n",
      " |-- system_check_id: string (nullable = true)\n",
      " |-- version: string (nullable = true)\n",
      "\n"
     ]
    }
   ],
   "source": [
    "payload_df.printSchema()"
   ]
  },
  {
   "cell_type": "code",
   "execution_count": 12,
   "metadata": {},
   "outputs": [],
   "source": [
    "versions = payload_df.select(\"version\")"
   ]
  },
  {
   "cell_type": "code",
   "execution_count": 13,
   "metadata": {},
   "outputs": [
    {
     "name": "stdout",
     "output_type": "stream",
     "text": [
      "+-------+\n",
      "|version|\n",
      "+-------+\n",
      "|  1.1.0|\n",
      "|  1.1.0|\n",
      "|  1.1.0|\n",
      "|  1.1.0|\n",
      "|  1.1.0|\n",
      "|  1.1.0|\n",
      "|  1.1.0|\n",
      "|  1.1.0|\n",
      "|  1.1.0|\n",
      "|  1.1.0|\n",
      "|  1.1.0|\n",
      "|   null|\n",
      "|  1.1.0|\n",
      "|  1.1.0|\n",
      "|  1.1.0|\n",
      "|   null|\n",
      "|  1.1.0|\n",
      "|  1.1.0|\n",
      "|  1.1.0|\n",
      "|  1.1.0|\n",
      "+-------+\n",
      "only showing top 20 rows\n",
      "\n"
     ]
    }
   ],
   "source": [
    "versions.show()"
   ]
  },
  {
   "cell_type": "code",
   "execution_count": 14,
   "metadata": {},
   "outputs": [
    {
     "data": {
      "text/plain": [
       "Column<b'flatten(events)'>"
      ]
     },
     "execution_count": 14,
     "metadata": {},
     "output_type": "execute_result"
    }
   ],
   "source": [
    "flatten(payload_df.events)"
   ]
  },
  {
   "cell_type": "code",
   "execution_count": null,
   "metadata": {},
   "outputs": [],
   "source": [
    "pyspark.sql.functions"
   ]
  },
  {
   "cell_type": "code",
   "execution_count": null,
   "metadata": {},
   "outputs": [],
   "source": [
    "dir(pyspark.sql.functions)"
   ]
  },
  {
   "cell_type": "code",
   "execution_count": 17,
   "metadata": {},
   "outputs": [],
   "source": [
    "x = payload_df.select(explode(payload_df.events).alias(\"event\"))"
   ]
  },
  {
   "cell_type": "code",
   "execution_count": 49,
   "metadata": {},
   "outputs": [
    {
     "data": {
      "text/plain": [
       "[Row(event=Row(dateTime='2001-02-19T19:01:42.0Z', eventCategory='supply', eventDetail=Row(brand='HP', connectionInfo=None, connectionState=None, connectionStateCurrent=None, connectionStateMax=None, connectionStateMin=None, consumableLabelCode='M', consumableManufacturingSignature='020101f1126ffa0f8285c448769c641023286cab1acee82f43ccc6b7be426800c0186019ec36be2bca80e84947cbc294521fe51eae1a245306fc10bf96fd023caae3083d0dc42b2a20d1f04655986f9a31657407bb', consumablePercentageLevelRemaining=90, consumableProductNumber=None, consumableSerialNumber='560256648', consumableState=None, consumableUniqueId='000000000000000045f0ff19d100088c', dataSource=None, domainConfig=None, downloadDuration=None, dustLevel=None, errorCategory=None, errorCode=None, errorType=None, eventCategory=None, eventCode='17.99.32', eventDetailAssert=None, eventDetailConsumable=None, eventDetailErrorRecovery=None, eventDetailJobStatus=None, eventDetailSystemError=None, eventDetailType=None, eventIntArray=None, eventOccurrences=None, eventTrigger='usedConsumable', eventTriggerReason=None, event_code=None, firmwareAssert=None, firmwareVersion=None, fmpRegexCandidate=None, freeMobilePhotoInfo=None, fwAssert=None, hasUsedNonHp=None, httpUserAgent=None, inkFillCapacity=11300000, inkLevelGauge=10514988, inkLevelSensorValue=54, installDate='2018-08-13T00:00:00.0Z', installDuration=None, ippJobStatus=None, ippMediaSize=None, isInstantInkSubscription='false', isRefilled='false', isSetup='false', isTrial='false', jobErrorRecovery=None, jobRecovery=None, jobType=None, job_type=None, key=None, linkStats=None, makeAndModel=None, manufactureDate='2018-06-04T00:00:00.0Z', manufacturer='HP', measuredQuantityState='ok', midLabel='00000000000000', modelNumber=None, networkConfig=None, networkInterfaceName=None, networkInterfaceType=None, penStatus=None, postStartupSupplyVolume=0, prevCartridge=None, previousCartridge=None, previousFwVersion=None, printInfo=None, printerRegion=4, productId=None, reason=None, scanInfo=None, selectabilityNumber='912XL', selfHeal=None, selfheal=None, sequenceNumber=None, serialNumber=None, stID=None, stId=None, stateEnabled=None, stateStabilisationDelay=None, supplyFamilyId=37, supplyMarkedEmpty='false', supplyModelNumber=1, supplyRegion=4, supplyType=1, t4=19780000, totalInkUsageGauge=785011, triggerCategory='supplyChanged', uapConfig=None, updateMethod=None, updateSuccess=None, updateTriggerReason=None, updatedFwVersion=None, userConfig=None, versio=None, version='1.0.0', wifiConfig=None), eventDetailType='com.hp.cdm.service.eventing.resource.eventDetail.type.supply.platform.sirius.version.1', onDurationTime (sec)=None, powerCycleCount=None, sequenceNumber=157))]"
      ]
     },
     "execution_count": 49,
     "metadata": {},
     "output_type": "execute_result"
    }
   ],
   "source": [
    "x.head(1)"
   ]
  },
  {
   "cell_type": "code",
   "execution_count": 99,
   "metadata": {},
   "outputs": [],
   "source": [
    "flx = x.select(\"event.eventDetail.eventCode\")"
   ]
  },
  {
   "cell_type": "code",
   "execution_count": null,
   "metadata": {},
   "outputs": [],
   "source": [
    "flx.show(3,truncate=False)"
   ]
  },
  {
   "cell_type": "code",
   "execution_count": 90,
   "metadata": {},
   "outputs": [],
   "source": [
    "def flatten_df1(nested_df):\n",
    "    flat_cols = [c[0] for c in nested_df.dtypes if c[1][:6] != 'struct']\n",
    "    nested_cols = [c[0] for c in nested_df.dtypes if c[1][:6] == 'struct']\n",
    "\n",
    "    flat_df = nested_df.select(flat_cols +\n",
    "                               [F.col(nc+'.'+c).alias(nc+'_'+c)\n",
    "                                for nc in nested_cols\n",
    "                                for c in nested_df.select(nc+'.*').columns])\n",
    "    return flat_df"
   ]
  },
  {
   "cell_type": "code",
   "execution_count": 91,
   "metadata": {},
   "outputs": [],
   "source": [
    "def flatten_df(nested_df, layers):\n",
    "    flat_cols = []\n",
    "    nested_cols = []\n",
    "    flat_df = []\n",
    "\n",
    "    flat_cols.append([c[0] for c in nested_df.dtypes if c[1][:6] != 'struct'])\n",
    "    nested_cols.append([c[0] for c in nested_df.dtypes if c[1][:6] == 'struct'])\n",
    "\n",
    "    flat_df.append(nested_df.select(flat_cols[0] +\n",
    "                               [col(nc+'.'+c).alias(nc+'_'+c)\n",
    "                                for nc in nested_cols[0]\n",
    "                                for c in nested_df.select(nc+'.*').columns])\n",
    "                  )\n",
    "    for i in range(1, layers):\n",
    "        print (flat_cols[i-1])\n",
    "        flat_cols.append([c[0] for c in flat_df[i-1].dtypes if c[1][:6] != 'struct'])\n",
    "        nested_cols.append([c[0] for c in flat_df[i-1].dtypes if c[1][:6] == 'struct'])\n",
    "\n",
    "        flat_df.append(flat_df[i-1].select(flat_cols[i] +\n",
    "                                [col(nc+'.'+c).alias(nc+'_'+c)\n",
    "                                    for nc in nested_cols[i]\n",
    "                                    for c in flat_df[i-1].select(nc+'.*').columns])\n",
    "        )\n",
    "\n",
    "    return flat_df[-1]"
   ]
  },
  {
   "cell_type": "code",
   "execution_count": 93,
   "metadata": {},
   "outputs": [
    {
     "ename": "SyntaxError",
     "evalue": "invalid syntax (<ipython-input-93-e553e3372ef4>, line 2)",
     "output_type": "error",
     "traceback": [
      "\u001b[0;36m  File \u001b[0;32m\"<ipython-input-93-e553e3372ef4>\"\u001b[0;36m, line \u001b[0;32m2\u001b[0m\n\u001b[0;31m    schema.fields.flatMap(f => {\u001b[0m\n\u001b[0m                             ^\u001b[0m\n\u001b[0;31mSyntaxError\u001b[0m\u001b[0;31m:\u001b[0m invalid syntax\n"
     ]
    }
   ],
   "source": [
    "def flattenSchema(schema: StructType, prefix: String = null) : Array[Column] = {\n",
    "  schema.fields.flatMap(f => {\n",
    "    val colName = if (prefix == null) f.name else (prefix + \".\" + f.name)\n",
    "\n",
    "    f.dataType match {\n",
    "      case st: StructType => flattenSchema(st, colName)\n",
    "      case _ => Array(col(colName))\n",
    "    }\n",
    "  })\n",
    "}"
   ]
  },
  {
   "cell_type": "code",
   "execution_count": 92,
   "metadata": {},
   "outputs": [
    {
     "name": "stdout",
     "output_type": "stream",
     "text": [
      "[]\n"
     ]
    },
    {
     "ename": "AnalysisException",
     "evalue": "'Ambiguous reference to fields StructField(selfHeal,StructType(StructField(actions,ArrayType(StringType,true),true), StructField(results,ArrayType(StringType,true),true), StructField(selfHealVersion,StringType,true)),true), StructField(selfheal,StructType(StructField(actions,ArrayType(StringType,true),true), StructField(results,ArrayType(StringType,true),true), StructField(selfhealTest,StringType,true)),true);'",
     "output_type": "error",
     "traceback": [
      "\u001b[0;31m---------------------------------------------------------------------------\u001b[0m",
      "\u001b[0;31mPy4JJavaError\u001b[0m                             Traceback (most recent call last)",
      "\u001b[0;32m/work/ericr/spark/sparkdev/spark/python/pyspark/sql/utils.py\u001b[0m in \u001b[0;36mdeco\u001b[0;34m(*a, **kw)\u001b[0m\n\u001b[1;32m     62\u001b[0m         \u001b[0;32mtry\u001b[0m\u001b[0;34m:\u001b[0m\u001b[0;34m\u001b[0m\u001b[0m\n\u001b[0;32m---> 63\u001b[0;31m             \u001b[0;32mreturn\u001b[0m \u001b[0mf\u001b[0m\u001b[0;34m(\u001b[0m\u001b[0;34m*\u001b[0m\u001b[0ma\u001b[0m\u001b[0;34m,\u001b[0m \u001b[0;34m**\u001b[0m\u001b[0mkw\u001b[0m\u001b[0;34m)\u001b[0m\u001b[0;34m\u001b[0m\u001b[0m\n\u001b[0m\u001b[1;32m     64\u001b[0m         \u001b[0;32mexcept\u001b[0m \u001b[0mpy4j\u001b[0m\u001b[0;34m.\u001b[0m\u001b[0mprotocol\u001b[0m\u001b[0;34m.\u001b[0m\u001b[0mPy4JJavaError\u001b[0m \u001b[0;32mas\u001b[0m \u001b[0me\u001b[0m\u001b[0;34m:\u001b[0m\u001b[0;34m\u001b[0m\u001b[0m\n",
      "\u001b[0;32m/work/ericr/spark/sparkdev/spark/python/lib/py4j-0.10.7-src.zip/py4j/protocol.py\u001b[0m in \u001b[0;36mget_return_value\u001b[0;34m(answer, gateway_client, target_id, name)\u001b[0m\n\u001b[1;32m    327\u001b[0m                     \u001b[0;34m\"An error occurred while calling {0}{1}{2}.\\n\"\u001b[0m\u001b[0;34m.\u001b[0m\u001b[0;34m\u001b[0m\u001b[0m\n\u001b[0;32m--> 328\u001b[0;31m                     format(target_id, \".\", name), value)\n\u001b[0m\u001b[1;32m    329\u001b[0m             \u001b[0;32melse\u001b[0m\u001b[0;34m:\u001b[0m\u001b[0;34m\u001b[0m\u001b[0m\n",
      "\u001b[0;31mPy4JJavaError\u001b[0m: An error occurred while calling o647.select.\n: org.apache.spark.sql.AnalysisException: Ambiguous reference to fields StructField(selfHeal,StructType(StructField(actions,ArrayType(StringType,true),true), StructField(results,ArrayType(StringType,true),true), StructField(selfHealVersion,StringType,true)),true), StructField(selfheal,StructType(StructField(actions,ArrayType(StringType,true),true), StructField(results,ArrayType(StringType,true),true), StructField(selfhealTest,StringType,true)),true);\n\tat org.apache.spark.sql.catalyst.expressions.ExtractValue$.findField(complexTypeExtractors.scala:88)\n\tat org.apache.spark.sql.catalyst.expressions.ExtractValue$.apply(complexTypeExtractors.scala:53)\n\tat org.apache.spark.sql.catalyst.expressions.package$AttributeSeq$$anonfun$7.apply(package.scala:244)\n\tat org.apache.spark.sql.catalyst.expressions.package$AttributeSeq$$anonfun$7.apply(package.scala:243)\n\tat scala.collection.IndexedSeqOptimized$class.foldl(IndexedSeqOptimized.scala:57)\n\tat scala.collection.IndexedSeqOptimized$class.foldLeft(IndexedSeqOptimized.scala:66)\n\tat scala.collection.mutable.ArrayBuffer.foldLeft(ArrayBuffer.scala:48)\n\tat org.apache.spark.sql.catalyst.expressions.package$AttributeSeq.resolve(package.scala:243)\n\tat org.apache.spark.sql.catalyst.plans.logical.LogicalPlan.resolveChildren(LogicalPlan.scala:101)\n\tat org.apache.spark.sql.catalyst.analysis.Analyzer$ResolveReferences$$anonfun$39.apply(Analyzer.scala:889)\n\tat org.apache.spark.sql.catalyst.analysis.Analyzer$ResolveReferences$$anonfun$39.apply(Analyzer.scala:891)\n\tat org.apache.spark.sql.catalyst.analysis.package$.withPosition(package.scala:53)\n\tat org.apache.spark.sql.catalyst.analysis.Analyzer$ResolveReferences$.org$apache$spark$sql$catalyst$analysis$Analyzer$ResolveReferences$$resolve(Analyzer.scala:888)\n\tat org.apache.spark.sql.catalyst.analysis.Analyzer$ResolveReferences$$anonfun$org$apache$spark$sql$catalyst$analysis$Analyzer$ResolveReferences$$resolve$2.apply(Analyzer.scala:897)\n\tat org.apache.spark.sql.catalyst.analysis.Analyzer$ResolveReferences$$anonfun$org$apache$spark$sql$catalyst$analysis$Analyzer$ResolveReferences$$resolve$2.apply(Analyzer.scala:897)\n\tat org.apache.spark.sql.catalyst.trees.TreeNode$$anonfun$4.apply(TreeNode.scala:326)\n\tat org.apache.spark.sql.catalyst.trees.TreeNode.mapProductIterator(TreeNode.scala:187)\n\tat org.apache.spark.sql.catalyst.trees.TreeNode.mapChildren(TreeNode.scala:324)\n\tat org.apache.spark.sql.catalyst.analysis.Analyzer$ResolveReferences$.org$apache$spark$sql$catalyst$analysis$Analyzer$ResolveReferences$$resolve(Analyzer.scala:897)\n\tat org.apache.spark.sql.catalyst.analysis.Analyzer$ResolveReferences$$anonfun$apply$9$$anonfun$applyOrElse$35.apply(Analyzer.scala:957)\n\tat org.apache.spark.sql.catalyst.analysis.Analyzer$ResolveReferences$$anonfun$apply$9$$anonfun$applyOrElse$35.apply(Analyzer.scala:957)\n\tat org.apache.spark.sql.catalyst.plans.QueryPlan$$anonfun$1.apply(QueryPlan.scala:105)\n\tat org.apache.spark.sql.catalyst.plans.QueryPlan$$anonfun$1.apply(QueryPlan.scala:105)\n\tat org.apache.spark.sql.catalyst.trees.CurrentOrigin$.withOrigin(TreeNode.scala:70)\n\tat org.apache.spark.sql.catalyst.plans.QueryPlan.transformExpression$1(QueryPlan.scala:104)\n\tat org.apache.spark.sql.catalyst.plans.QueryPlan.org$apache$spark$sql$catalyst$plans$QueryPlan$$recursiveTransform$1(QueryPlan.scala:116)\n\tat org.apache.spark.sql.catalyst.plans.QueryPlan$$anonfun$org$apache$spark$sql$catalyst$plans$QueryPlan$$recursiveTransform$1$2.apply(QueryPlan.scala:121)\n\tat scala.collection.TraversableLike$$anonfun$map$1.apply(TraversableLike.scala:234)\n\tat scala.collection.TraversableLike$$anonfun$map$1.apply(TraversableLike.scala:234)\n\tat scala.collection.mutable.ResizableArray$class.foreach(ResizableArray.scala:59)\n\tat scala.collection.mutable.ArrayBuffer.foreach(ArrayBuffer.scala:48)\n\tat scala.collection.TraversableLike$class.map(TraversableLike.scala:234)\n\tat scala.collection.AbstractTraversable.map(Traversable.scala:104)\n\tat org.apache.spark.sql.catalyst.plans.QueryPlan.org$apache$spark$sql$catalyst$plans$QueryPlan$$recursiveTransform$1(QueryPlan.scala:121)\n\tat org.apache.spark.sql.catalyst.plans.QueryPlan$$anonfun$2.apply(QueryPlan.scala:126)\n\tat org.apache.spark.sql.catalyst.trees.TreeNode.mapProductIterator(TreeNode.scala:187)\n\tat org.apache.spark.sql.catalyst.plans.QueryPlan.mapExpressions(QueryPlan.scala:126)\n\tat org.apache.spark.sql.catalyst.analysis.Analyzer$ResolveReferences$$anonfun$apply$9.applyOrElse(Analyzer.scala:957)\n\tat org.apache.spark.sql.catalyst.analysis.Analyzer$ResolveReferences$$anonfun$apply$9.applyOrElse(Analyzer.scala:900)\n\tat org.apache.spark.sql.catalyst.plans.logical.AnalysisHelper$$anonfun$resolveOperatorsUp$1$$anonfun$apply$1.apply(AnalysisHelper.scala:90)\n\tat org.apache.spark.sql.catalyst.plans.logical.AnalysisHelper$$anonfun$resolveOperatorsUp$1$$anonfun$apply$1.apply(AnalysisHelper.scala:90)\n\tat org.apache.spark.sql.catalyst.trees.CurrentOrigin$.withOrigin(TreeNode.scala:70)\n\tat org.apache.spark.sql.catalyst.plans.logical.AnalysisHelper$$anonfun$resolveOperatorsUp$1.apply(AnalysisHelper.scala:89)\n\tat org.apache.spark.sql.catalyst.plans.logical.AnalysisHelper$$anonfun$resolveOperatorsUp$1.apply(AnalysisHelper.scala:86)\n\tat org.apache.spark.sql.catalyst.plans.logical.AnalysisHelper$.allowInvokingTransformsInAnalyzer(AnalysisHelper.scala:194)\n\tat org.apache.spark.sql.catalyst.plans.logical.AnalysisHelper$class.resolveOperatorsUp(AnalysisHelper.scala:86)\n\tat org.apache.spark.sql.catalyst.plans.logical.LogicalPlan.resolveOperatorsUp(LogicalPlan.scala:29)\n\tat org.apache.spark.sql.catalyst.analysis.Analyzer$ResolveReferences$.apply(Analyzer.scala:900)\n\tat org.apache.spark.sql.catalyst.analysis.Analyzer$ResolveReferences$.apply(Analyzer.scala:758)\n\tat org.apache.spark.sql.catalyst.rules.RuleExecutor$$anonfun$execute$1$$anonfun$apply$1.apply(RuleExecutor.scala:87)\n\tat org.apache.spark.sql.catalyst.rules.RuleExecutor$$anonfun$execute$1$$anonfun$apply$1.apply(RuleExecutor.scala:84)\n\tat scala.collection.LinearSeqOptimized$class.foldLeft(LinearSeqOptimized.scala:124)\n\tat scala.collection.immutable.List.foldLeft(List.scala:84)\n\tat org.apache.spark.sql.catalyst.rules.RuleExecutor$$anonfun$execute$1.apply(RuleExecutor.scala:84)\n\tat org.apache.spark.sql.catalyst.rules.RuleExecutor$$anonfun$execute$1.apply(RuleExecutor.scala:76)\n\tat scala.collection.immutable.List.foreach(List.scala:392)\n\tat org.apache.spark.sql.catalyst.rules.RuleExecutor.execute(RuleExecutor.scala:76)\n\tat org.apache.spark.sql.catalyst.analysis.Analyzer.org$apache$spark$sql$catalyst$analysis$Analyzer$$executeSameContext(Analyzer.scala:127)\n\tat org.apache.spark.sql.catalyst.analysis.Analyzer.execute(Analyzer.scala:121)\n\tat org.apache.spark.sql.catalyst.analysis.Analyzer$$anonfun$executeAndCheck$1.apply(Analyzer.scala:106)\n\tat org.apache.spark.sql.catalyst.analysis.Analyzer$$anonfun$executeAndCheck$1.apply(Analyzer.scala:105)\n\tat org.apache.spark.sql.catalyst.plans.logical.AnalysisHelper$.markInAnalyzer(AnalysisHelper.scala:201)\n\tat org.apache.spark.sql.catalyst.analysis.Analyzer.executeAndCheck(Analyzer.scala:105)\n\tat org.apache.spark.sql.execution.QueryExecution.analyzed$lzycompute(QueryExecution.scala:57)\n\tat org.apache.spark.sql.execution.QueryExecution.analyzed(QueryExecution.scala:55)\n\tat org.apache.spark.sql.execution.QueryExecution.assertAnalyzed(QueryExecution.scala:47)\n\tat org.apache.spark.sql.Dataset$.ofRows(Dataset.scala:79)\n\tat org.apache.spark.sql.Dataset.org$apache$spark$sql$Dataset$$withPlan(Dataset.scala:3407)\n\tat org.apache.spark.sql.Dataset.select(Dataset.scala:1335)\n\tat sun.reflect.GeneratedMethodAccessor108.invoke(Unknown Source)\n\tat sun.reflect.DelegatingMethodAccessorImpl.invoke(DelegatingMethodAccessorImpl.java:43)\n\tat java.lang.reflect.Method.invoke(Method.java:498)\n\tat py4j.reflection.MethodInvoker.invoke(MethodInvoker.java:244)\n\tat py4j.reflection.ReflectionEngine.invoke(ReflectionEngine.java:357)\n\tat py4j.Gateway.invoke(Gateway.java:282)\n\tat py4j.commands.AbstractCommand.invokeMethod(AbstractCommand.java:132)\n\tat py4j.commands.CallCommand.execute(CallCommand.java:79)\n\tat py4j.GatewayConnection.run(GatewayConnection.java:238)\n\tat java.lang.Thread.run(Thread.java:748)\n",
      "\nDuring handling of the above exception, another exception occurred:\n",
      "\u001b[0;31mAnalysisException\u001b[0m                         Traceback (most recent call last)",
      "\u001b[0;32m<ipython-input-92-d5b672d529ea>\u001b[0m in \u001b[0;36m<module>\u001b[0;34m()\u001b[0m\n\u001b[0;32m----> 1\u001b[0;31m \u001b[0mflat_x\u001b[0m \u001b[0;34m=\u001b[0m \u001b[0mflatten_df\u001b[0m\u001b[0;34m(\u001b[0m\u001b[0mx\u001b[0m\u001b[0;34m,\u001b[0m\u001b[0;36m3\u001b[0m\u001b[0;34m)\u001b[0m\u001b[0;34m\u001b[0m\u001b[0m\n\u001b[0m",
      "\u001b[0;32m<ipython-input-91-5dcfb5f88aa7>\u001b[0m in \u001b[0;36mflatten_df\u001b[0;34m(nested_df, layers)\u001b[0m\n\u001b[1;32m     19\u001b[0m         flat_df.append(flat_df[i-1].select(flat_cols[i] +\n\u001b[1;32m     20\u001b[0m                                 [col(nc+'.'+c).alias(nc+'_'+c)\n\u001b[0;32m---> 21\u001b[0;31m                                     \u001b[0;32mfor\u001b[0m \u001b[0mnc\u001b[0m \u001b[0;32min\u001b[0m \u001b[0mnested_cols\u001b[0m\u001b[0;34m[\u001b[0m\u001b[0mi\u001b[0m\u001b[0;34m]\u001b[0m\u001b[0;34m\u001b[0m\u001b[0m\n\u001b[0m\u001b[1;32m     22\u001b[0m                                     for c in flat_df[i-1].select(nc+'.*').columns])\n\u001b[1;32m     23\u001b[0m         )\n",
      "\u001b[0;32m/work/ericr/spark/sparkdev/spark/python/pyspark/sql/dataframe.py\u001b[0m in \u001b[0;36mselect\u001b[0;34m(self, *cols)\u001b[0m\n\u001b[1;32m   1318\u001b[0m         \u001b[0;34m[\u001b[0m\u001b[0mRow\u001b[0m\u001b[0;34m(\u001b[0m\u001b[0mname\u001b[0m\u001b[0;34m=\u001b[0m\u001b[0;34mu'Alice'\u001b[0m\u001b[0;34m,\u001b[0m \u001b[0mage\u001b[0m\u001b[0;34m=\u001b[0m\u001b[0;36m12\u001b[0m\u001b[0;34m)\u001b[0m\u001b[0;34m,\u001b[0m \u001b[0mRow\u001b[0m\u001b[0;34m(\u001b[0m\u001b[0mname\u001b[0m\u001b[0;34m=\u001b[0m\u001b[0;34mu'Bob'\u001b[0m\u001b[0;34m,\u001b[0m \u001b[0mage\u001b[0m\u001b[0;34m=\u001b[0m\u001b[0;36m15\u001b[0m\u001b[0;34m)\u001b[0m\u001b[0;34m]\u001b[0m\u001b[0;34m\u001b[0m\u001b[0m\n\u001b[1;32m   1319\u001b[0m         \"\"\"\n\u001b[0;32m-> 1320\u001b[0;31m         \u001b[0mjdf\u001b[0m \u001b[0;34m=\u001b[0m \u001b[0mself\u001b[0m\u001b[0;34m.\u001b[0m\u001b[0m_jdf\u001b[0m\u001b[0;34m.\u001b[0m\u001b[0mselect\u001b[0m\u001b[0;34m(\u001b[0m\u001b[0mself\u001b[0m\u001b[0;34m.\u001b[0m\u001b[0m_jcols\u001b[0m\u001b[0;34m(\u001b[0m\u001b[0;34m*\u001b[0m\u001b[0mcols\u001b[0m\u001b[0;34m)\u001b[0m\u001b[0;34m)\u001b[0m\u001b[0;34m\u001b[0m\u001b[0m\n\u001b[0m\u001b[1;32m   1321\u001b[0m         \u001b[0;32mreturn\u001b[0m \u001b[0mDataFrame\u001b[0m\u001b[0;34m(\u001b[0m\u001b[0mjdf\u001b[0m\u001b[0;34m,\u001b[0m \u001b[0mself\u001b[0m\u001b[0;34m.\u001b[0m\u001b[0msql_ctx\u001b[0m\u001b[0;34m)\u001b[0m\u001b[0;34m\u001b[0m\u001b[0m\n\u001b[1;32m   1322\u001b[0m \u001b[0;34m\u001b[0m\u001b[0m\n",
      "\u001b[0;32m/work/ericr/spark/sparkdev/spark/python/lib/py4j-0.10.7-src.zip/py4j/java_gateway.py\u001b[0m in \u001b[0;36m__call__\u001b[0;34m(self, *args)\u001b[0m\n\u001b[1;32m   1255\u001b[0m         \u001b[0manswer\u001b[0m \u001b[0;34m=\u001b[0m \u001b[0mself\u001b[0m\u001b[0;34m.\u001b[0m\u001b[0mgateway_client\u001b[0m\u001b[0;34m.\u001b[0m\u001b[0msend_command\u001b[0m\u001b[0;34m(\u001b[0m\u001b[0mcommand\u001b[0m\u001b[0;34m)\u001b[0m\u001b[0;34m\u001b[0m\u001b[0m\n\u001b[1;32m   1256\u001b[0m         return_value = get_return_value(\n\u001b[0;32m-> 1257\u001b[0;31m             answer, self.gateway_client, self.target_id, self.name)\n\u001b[0m\u001b[1;32m   1258\u001b[0m \u001b[0;34m\u001b[0m\u001b[0m\n\u001b[1;32m   1259\u001b[0m         \u001b[0;32mfor\u001b[0m \u001b[0mtemp_arg\u001b[0m \u001b[0;32min\u001b[0m \u001b[0mtemp_args\u001b[0m\u001b[0;34m:\u001b[0m\u001b[0;34m\u001b[0m\u001b[0m\n",
      "\u001b[0;32m/work/ericr/spark/sparkdev/spark/python/pyspark/sql/utils.py\u001b[0m in \u001b[0;36mdeco\u001b[0;34m(*a, **kw)\u001b[0m\n\u001b[1;32m     67\u001b[0m                                              e.java_exception.getStackTrace()))\n\u001b[1;32m     68\u001b[0m             \u001b[0;32mif\u001b[0m \u001b[0ms\u001b[0m\u001b[0;34m.\u001b[0m\u001b[0mstartswith\u001b[0m\u001b[0;34m(\u001b[0m\u001b[0;34m'org.apache.spark.sql.AnalysisException: '\u001b[0m\u001b[0;34m)\u001b[0m\u001b[0;34m:\u001b[0m\u001b[0;34m\u001b[0m\u001b[0m\n\u001b[0;32m---> 69\u001b[0;31m                 \u001b[0;32mraise\u001b[0m \u001b[0mAnalysisException\u001b[0m\u001b[0;34m(\u001b[0m\u001b[0ms\u001b[0m\u001b[0;34m.\u001b[0m\u001b[0msplit\u001b[0m\u001b[0;34m(\u001b[0m\u001b[0;34m': '\u001b[0m\u001b[0;34m,\u001b[0m \u001b[0;36m1\u001b[0m\u001b[0;34m)\u001b[0m\u001b[0;34m[\u001b[0m\u001b[0;36m1\u001b[0m\u001b[0;34m]\u001b[0m\u001b[0;34m,\u001b[0m \u001b[0mstackTrace\u001b[0m\u001b[0;34m)\u001b[0m\u001b[0;34m\u001b[0m\u001b[0m\n\u001b[0m\u001b[1;32m     70\u001b[0m             \u001b[0;32mif\u001b[0m \u001b[0ms\u001b[0m\u001b[0;34m.\u001b[0m\u001b[0mstartswith\u001b[0m\u001b[0;34m(\u001b[0m\u001b[0;34m'org.apache.spark.sql.catalyst.analysis'\u001b[0m\u001b[0;34m)\u001b[0m\u001b[0;34m:\u001b[0m\u001b[0;34m\u001b[0m\u001b[0m\n\u001b[1;32m     71\u001b[0m                 \u001b[0;32mraise\u001b[0m \u001b[0mAnalysisException\u001b[0m\u001b[0;34m(\u001b[0m\u001b[0ms\u001b[0m\u001b[0;34m.\u001b[0m\u001b[0msplit\u001b[0m\u001b[0;34m(\u001b[0m\u001b[0;34m': '\u001b[0m\u001b[0;34m,\u001b[0m \u001b[0;36m1\u001b[0m\u001b[0;34m)\u001b[0m\u001b[0;34m[\u001b[0m\u001b[0;36m1\u001b[0m\u001b[0;34m]\u001b[0m\u001b[0;34m,\u001b[0m \u001b[0mstackTrace\u001b[0m\u001b[0;34m)\u001b[0m\u001b[0;34m\u001b[0m\u001b[0m\n",
      "\u001b[0;31mAnalysisException\u001b[0m: 'Ambiguous reference to fields StructField(selfHeal,StructType(StructField(actions,ArrayType(StringType,true),true), StructField(results,ArrayType(StringType,true),true), StructField(selfHealVersion,StringType,true)),true), StructField(selfheal,StructType(StructField(actions,ArrayType(StringType,true),true), StructField(results,ArrayType(StringType,true),true), StructField(selfhealTest,StringType,true)),true);'"
     ]
    }
   ],
   "source": [
    "flat_x = flatten_df(x,3)"
   ]
  },
  {
   "cell_type": "code",
   "execution_count": 81,
   "metadata": {},
   "outputs": [
    {
     "ename": "AnalysisException",
     "evalue": "\"cannot resolve 'explode(`event`.`eventDetail`)' due to data type mismatch: input to function explode should be array or map type, not struct<brand:string,connectionInfo:struct<localIpv4Address:struct<addr:string,subnetMask:string>,sourceInSameSubnet:string,sourceIpv4Address:struct<addr:string,subnetMask:string>,sourceIpv6Address:struct<addr:string>,sourceMacAddress:string>,connectionState:string,connectionStateCurrent:bigint,connectionStateMax:bigint,connectionStateMin:bigint,consumableLabelCode:string,consumableManufacturingSignature:string,consumablePercentageLevelRemaining:bigint,consumableProductNumber:string,consumableSerialNumber:string,consumableState:string,consumableUniqueId:string,dataSource:string,domainConfig:struct<domainName:string,hostName:string,nameServerConfig:struct<ipv4Addresses:array<struct<addr:string>>,ipv6Addresses:array<struct<addr:string>>>,searchDomains:array<string>>,downloadDuration:bigint,dustLevel:bigint,errorCategory:string,errorCode:string,errorType:string,eventCategory:string,eventCode:string,eventDetailAssert:struct<eventCode:string,eventOccurrences:bigint>,eventDetailConsumable:struct<brand:string,consumableLabelCode:string,consumablePercentageLevelRemaining:bigint,consumableProductNumber:string,consumableSerialNumber:string,consumableState:string,consumableUniqueId:string,eventTrigger:string,installDate:string,isRefilled:string,isSetup:string,isTrial:string,manufactureDate:string,manufacturer:string,measuredQuantityState:string,midLabel:string,prevCartridge:struct<consumablePercentageLevelRemaining:bigint,consumableUniqueId:string>,stID:string,triggerCategory:string,version:string>,eventDetailErrorRecovery:struct<jobErrorRecovery:struct<errorType:string,failureReason:string,recoveryState:string>,version:string>,eventDetailJobStatus:struct<eventCode:string,eventOccurrences:bigint>,eventDetailSystemError:struct<errorCategory:string,eventCode:string,version:string>,eventDetailType:string,eventIntArray:array<bigint>,eventOccurrences:bigint,eventTrigger:string,eventTriggerReason:string,event_code:string,firmwareAssert:struct<app:string,code:string,file:string,fileCrc:string,firmwareVersion:string,line:bigint,type:string>,firmwareVersion:string,fmpRegexCandidate:string,freeMobilePhotoInfo:struct<fmpCounted:string,fmpMaxLength:bigint,fmpMaxWidth:bigint,fmpPageCount:bigint,fmpPages:string,nonFmpPageCount:bigint,nonFmpPages:string>,fwAssert:struct<app:string,code:string,file:string,fileCrc:string,firmwareVersion:string,line:bigint,type:string>,hasUsedNonHp:string,httpUserAgent:string,inkFillCapacity:bigint,inkLevelGauge:bigint,inkLevelSensorValue:bigint,installDate:string,installDuration:bigint,ippJobStatus:struct<dateTimeAtCompleted:string,dateTimeAtCreation:string,dateTimeAtProcessing:string,jobDocumentAccessErrors:string,jobImpressions:bigint,jobImpressionsCompleted:bigint,jobKOctets:bigint,jobKOctetsProcessed:bigint,jobMediaSheets:bigint,jobMediaSheetsCompleted:bigint,jobName:string,jobOriginatingUserName:string,jobPrinterURI:string,jobPrinterUpTime:bigint,jobPrinterUri:string,jobState:string,jobStateMessage:string,jobStateReasons:string,jobURI:string,jobUri:string,jobUuid:string>,ippMediaSize:struct<xDimension:bigint,yDimension:bigint>,isInstantInkSubscription:string,isRefilled:string,isSetup:string,isTrial:string,jobErrorRecovery:struct<errorType:string,failureReason:string,jobRecovery:string,recoveryState:string,version:string>,jobRecovery:string,jobType:string,job_type:string,key:string,linkStats:struct<rxDropped:bigint,rxErrors:bigint,rxErros:bigint,rxPackets:bigint,txDropped:bigint,txErrors:bigint,txPackets:bigint>,makeAndModel:string,manufactureDate:string,manufacturer:string,measuredQuantityState:string,midLabel:string,modelNumber:string,networkConfig:struct<ipv4Address:struct<addr:string,subnetMask:string>,ipv4Gateway:string,ipv6Addresses:array<struct<addr:string>>,ipv6Gateway:string>,networkInterfaceName:string,networkInterfaceType:string,penStatus:string,postStartupSupplyVolume:bigint,prevCartridge:struct<consumablePercentageLevelRemaining:bigint,consumableUniqueId:string>,previousCartridge:struct<consumablePercentageLevelRemaining:bigint,consumableUniqueId:string>,previousFwVersion:string,printInfo:struct<duplex:string,jobImpressionCompleted:bigint,jobImpressionsCompleted:bigint,mediaSizeDetected:struct<xDimension:bigint,yDimension:bigint>,mediaSizeRequested:struct<xDimension:bigint,yDimension:bigint>,mediaType:string,printMode:string>,printerRegion:bigint,productId:string,reason:string,scanInfo:struct<duplex:string,mediaSizeDetected:struct<height:bigint>,mediaSizeRequested:struct<height:bigint,width:bigint>>,selectabilityNumber:string,selfHeal:struct<actions:array<string>,results:array<string>,selfHealVersion:string>,selfheal:struct<actions:array<string>,results:array<string>,selfhealTest:string>,sequenceNumber:bigint,serialNumber:string,stID:string,stId:string,stateEnabled:boolean,stateStabilisationDelay:bigint,supplyFamilyId:bigint,supplyMarkedEmpty:string,supplyModelNumber:bigint,supplyRegion:bigint,supplyType:bigint,t4:bigint,totalInkUsageGauge:bigint,triggerCategory:string,uapConfig:struct<adminDisabled:string,powered:string>,updateMethod:string,updateSuccess:string,updateTriggerReason:string,updatedFwVersion:string,userConfig:struct<adminDisabled:string,changeCounter:bigint,ipv4ConfigMethod:string,ipv4Enabled:string,ipv6ConfigMethod:string,ipv6Enabled:string,passwdChanged:string,powered:string,ssid:string>,versio:string,version:string,wifiConfig:struct<associatedBssid:string,chanGraph:array<struct<anpi:bigint,channel:bigint,loadPercent:bigint,percentLoad:bigint>>,channelGraphs:array<struct<anpi:bigint,channel:bigint,percentLoad:bigint>>,channelInfos:array<struct<channel:bigint,signalAverage:bigint,signalMax:bigint,signalMin:bigint,singalAverage:bigint,singalMax:bigint,singalMin:bigint,ssidsCount:bigint>>,directedScanCount:bigint,lastAssociationCode:string,lastDeauthReason:bigint,signalQuality:struct<noise:bigint,strength:bigint>,undirectedScanCount:bigint>>;;\\n'Project [explode(event#39.eventDetail) AS eventDetail#265]\\n+- Project [event#39]\\n   +- Generate explode(events#14), false, [event#39]\\n      +- LogicalRDD [data_type#13, events#14, henq_metadata#15, links#16, metadata#17, originator#18, payloadManifestJec#19, subscriptionId#20, system_check_id#21, version#22], false\\n\"",
     "output_type": "error",
     "traceback": [
      "\u001b[0;31m---------------------------------------------------------------------------\u001b[0m",
      "\u001b[0;31mPy4JJavaError\u001b[0m                             Traceback (most recent call last)",
      "\u001b[0;32m/work/ericr/spark/sparkdev/spark/python/pyspark/sql/utils.py\u001b[0m in \u001b[0;36mdeco\u001b[0;34m(*a, **kw)\u001b[0m\n\u001b[1;32m     62\u001b[0m         \u001b[0;32mtry\u001b[0m\u001b[0;34m:\u001b[0m\u001b[0;34m\u001b[0m\u001b[0m\n\u001b[0;32m---> 63\u001b[0;31m             \u001b[0;32mreturn\u001b[0m \u001b[0mf\u001b[0m\u001b[0;34m(\u001b[0m\u001b[0;34m*\u001b[0m\u001b[0ma\u001b[0m\u001b[0;34m,\u001b[0m \u001b[0;34m**\u001b[0m\u001b[0mkw\u001b[0m\u001b[0;34m)\u001b[0m\u001b[0;34m\u001b[0m\u001b[0m\n\u001b[0m\u001b[1;32m     64\u001b[0m         \u001b[0;32mexcept\u001b[0m \u001b[0mpy4j\u001b[0m\u001b[0;34m.\u001b[0m\u001b[0mprotocol\u001b[0m\u001b[0;34m.\u001b[0m\u001b[0mPy4JJavaError\u001b[0m \u001b[0;32mas\u001b[0m \u001b[0me\u001b[0m\u001b[0;34m:\u001b[0m\u001b[0;34m\u001b[0m\u001b[0m\n",
      "\u001b[0;32m/work/ericr/spark/sparkdev/spark/python/lib/py4j-0.10.7-src.zip/py4j/protocol.py\u001b[0m in \u001b[0;36mget_return_value\u001b[0;34m(answer, gateway_client, target_id, name)\u001b[0m\n\u001b[1;32m    327\u001b[0m                     \u001b[0;34m\"An error occurred while calling {0}{1}{2}.\\n\"\u001b[0m\u001b[0;34m.\u001b[0m\u001b[0;34m\u001b[0m\u001b[0m\n\u001b[0;32m--> 328\u001b[0;31m                     format(target_id, \".\", name), value)\n\u001b[0m\u001b[1;32m    329\u001b[0m             \u001b[0;32melse\u001b[0m\u001b[0;34m:\u001b[0m\u001b[0;34m\u001b[0m\u001b[0m\n",
      "\u001b[0;31mPy4JJavaError\u001b[0m: An error occurred while calling o84.select.\n: org.apache.spark.sql.AnalysisException: cannot resolve 'explode(`event`.`eventDetail`)' due to data type mismatch: input to function explode should be array or map type, not struct<brand:string,connectionInfo:struct<localIpv4Address:struct<addr:string,subnetMask:string>,sourceInSameSubnet:string,sourceIpv4Address:struct<addr:string,subnetMask:string>,sourceIpv6Address:struct<addr:string>,sourceMacAddress:string>,connectionState:string,connectionStateCurrent:bigint,connectionStateMax:bigint,connectionStateMin:bigint,consumableLabelCode:string,consumableManufacturingSignature:string,consumablePercentageLevelRemaining:bigint,consumableProductNumber:string,consumableSerialNumber:string,consumableState:string,consumableUniqueId:string,dataSource:string,domainConfig:struct<domainName:string,hostName:string,nameServerConfig:struct<ipv4Addresses:array<struct<addr:string>>,ipv6Addresses:array<struct<addr:string>>>,searchDomains:array<string>>,downloadDuration:bigint,dustLevel:bigint,errorCategory:string,errorCode:string,errorType:string,eventCategory:string,eventCode:string,eventDetailAssert:struct<eventCode:string,eventOccurrences:bigint>,eventDetailConsumable:struct<brand:string,consumableLabelCode:string,consumablePercentageLevelRemaining:bigint,consumableProductNumber:string,consumableSerialNumber:string,consumableState:string,consumableUniqueId:string,eventTrigger:string,installDate:string,isRefilled:string,isSetup:string,isTrial:string,manufactureDate:string,manufacturer:string,measuredQuantityState:string,midLabel:string,prevCartridge:struct<consumablePercentageLevelRemaining:bigint,consumableUniqueId:string>,stID:string,triggerCategory:string,version:string>,eventDetailErrorRecovery:struct<jobErrorRecovery:struct<errorType:string,failureReason:string,recoveryState:string>,version:string>,eventDetailJobStatus:struct<eventCode:string,eventOccurrences:bigint>,eventDetailSystemError:struct<errorCategory:string,eventCode:string,version:string>,eventDetailType:string,eventIntArray:array<bigint>,eventOccurrences:bigint,eventTrigger:string,eventTriggerReason:string,event_code:string,firmwareAssert:struct<app:string,code:string,file:string,fileCrc:string,firmwareVersion:string,line:bigint,type:string>,firmwareVersion:string,fmpRegexCandidate:string,freeMobilePhotoInfo:struct<fmpCounted:string,fmpMaxLength:bigint,fmpMaxWidth:bigint,fmpPageCount:bigint,fmpPages:string,nonFmpPageCount:bigint,nonFmpPages:string>,fwAssert:struct<app:string,code:string,file:string,fileCrc:string,firmwareVersion:string,line:bigint,type:string>,hasUsedNonHp:string,httpUserAgent:string,inkFillCapacity:bigint,inkLevelGauge:bigint,inkLevelSensorValue:bigint,installDate:string,installDuration:bigint,ippJobStatus:struct<dateTimeAtCompleted:string,dateTimeAtCreation:string,dateTimeAtProcessing:string,jobDocumentAccessErrors:string,jobImpressions:bigint,jobImpressionsCompleted:bigint,jobKOctets:bigint,jobKOctetsProcessed:bigint,jobMediaSheets:bigint,jobMediaSheetsCompleted:bigint,jobName:string,jobOriginatingUserName:string,jobPrinterURI:string,jobPrinterUpTime:bigint,jobPrinterUri:string,jobState:string,jobStateMessage:string,jobStateReasons:string,jobURI:string,jobUri:string,jobUuid:string>,ippMediaSize:struct<xDimension:bigint,yDimension:bigint>,isInstantInkSubscription:string,isRefilled:string,isSetup:string,isTrial:string,jobErrorRecovery:struct<errorType:string,failureReason:string,jobRecovery:string,recoveryState:string,version:string>,jobRecovery:string,jobType:string,job_type:string,key:string,linkStats:struct<rxDropped:bigint,rxErrors:bigint,rxErros:bigint,rxPackets:bigint,txDropped:bigint,txErrors:bigint,txPackets:bigint>,makeAndModel:string,manufactureDate:string,manufacturer:string,measuredQuantityState:string,midLabel:string,modelNumber:string,networkConfig:struct<ipv4Address:struct<addr:string,subnetMask:string>,ipv4Gateway:string,ipv6Addresses:array<struct<addr:string>>,ipv6Gateway:string>,networkInterfaceName:string,networkInterfaceType:string,penStatus:string,postStartupSupplyVolume:bigint,prevCartridge:struct<consumablePercentageLevelRemaining:bigint,consumableUniqueId:string>,previousCartridge:struct<consumablePercentageLevelRemaining:bigint,consumableUniqueId:string>,previousFwVersion:string,printInfo:struct<duplex:string,jobImpressionCompleted:bigint,jobImpressionsCompleted:bigint,mediaSizeDetected:struct<xDimension:bigint,yDimension:bigint>,mediaSizeRequested:struct<xDimension:bigint,yDimension:bigint>,mediaType:string,printMode:string>,printerRegion:bigint,productId:string,reason:string,scanInfo:struct<duplex:string,mediaSizeDetected:struct<height:bigint>,mediaSizeRequested:struct<height:bigint,width:bigint>>,selectabilityNumber:string,selfHeal:struct<actions:array<string>,results:array<string>,selfHealVersion:string>,selfheal:struct<actions:array<string>,results:array<string>,selfhealTest:string>,sequenceNumber:bigint,serialNumber:string,stID:string,stId:string,stateEnabled:boolean,stateStabilisationDelay:bigint,supplyFamilyId:bigint,supplyMarkedEmpty:string,supplyModelNumber:bigint,supplyRegion:bigint,supplyType:bigint,t4:bigint,totalInkUsageGauge:bigint,triggerCategory:string,uapConfig:struct<adminDisabled:string,powered:string>,updateMethod:string,updateSuccess:string,updateTriggerReason:string,updatedFwVersion:string,userConfig:struct<adminDisabled:string,changeCounter:bigint,ipv4ConfigMethod:string,ipv4Enabled:string,ipv6ConfigMethod:string,ipv6Enabled:string,passwdChanged:string,powered:string,ssid:string>,versio:string,version:string,wifiConfig:struct<associatedBssid:string,chanGraph:array<struct<anpi:bigint,channel:bigint,loadPercent:bigint,percentLoad:bigint>>,channelGraphs:array<struct<anpi:bigint,channel:bigint,percentLoad:bigint>>,channelInfos:array<struct<channel:bigint,signalAverage:bigint,signalMax:bigint,signalMin:bigint,singalAverage:bigint,singalMax:bigint,singalMin:bigint,ssidsCount:bigint>>,directedScanCount:bigint,lastAssociationCode:string,lastDeauthReason:bigint,signalQuality:struct<noise:bigint,strength:bigint>,undirectedScanCount:bigint>>;;\n'Project [explode(event#39.eventDetail) AS eventDetail#265]\n+- Project [event#39]\n   +- Generate explode(events#14), false, [event#39]\n      +- LogicalRDD [data_type#13, events#14, henq_metadata#15, links#16, metadata#17, originator#18, payloadManifestJec#19, subscriptionId#20, system_check_id#21, version#22], false\n\n\tat org.apache.spark.sql.catalyst.analysis.package$AnalysisErrorAt.failAnalysis(package.scala:42)\n\tat org.apache.spark.sql.catalyst.analysis.CheckAnalysis$$anonfun$checkAnalysis$1$$anonfun$apply$3.applyOrElse(CheckAnalysis.scala:115)\n\tat org.apache.spark.sql.catalyst.analysis.CheckAnalysis$$anonfun$checkAnalysis$1$$anonfun$apply$3.applyOrElse(CheckAnalysis.scala:107)\n\tat org.apache.spark.sql.catalyst.trees.TreeNode$$anonfun$transformUp$1.apply(TreeNode.scala:278)\n\tat org.apache.spark.sql.catalyst.trees.TreeNode$$anonfun$transformUp$1.apply(TreeNode.scala:278)\n\tat org.apache.spark.sql.catalyst.trees.CurrentOrigin$.withOrigin(TreeNode.scala:70)\n\tat org.apache.spark.sql.catalyst.trees.TreeNode.transformUp(TreeNode.scala:277)\n\tat org.apache.spark.sql.catalyst.trees.TreeNode$$anonfun$3.apply(TreeNode.scala:275)\n\tat org.apache.spark.sql.catalyst.trees.TreeNode$$anonfun$3.apply(TreeNode.scala:275)\n\tat org.apache.spark.sql.catalyst.trees.TreeNode$$anonfun$4.apply(TreeNode.scala:326)\n\tat org.apache.spark.sql.catalyst.trees.TreeNode.mapProductIterator(TreeNode.scala:187)\n\tat org.apache.spark.sql.catalyst.trees.TreeNode.mapChildren(TreeNode.scala:324)\n\tat org.apache.spark.sql.catalyst.trees.TreeNode.transformUp(TreeNode.scala:275)\n\tat org.apache.spark.sql.catalyst.plans.QueryPlan$$anonfun$transformExpressionsUp$1.apply(QueryPlan.scala:93)\n\tat org.apache.spark.sql.catalyst.plans.QueryPlan$$anonfun$transformExpressionsUp$1.apply(QueryPlan.scala:93)\n\tat org.apache.spark.sql.catalyst.plans.QueryPlan$$anonfun$1.apply(QueryPlan.scala:105)\n\tat org.apache.spark.sql.catalyst.plans.QueryPlan$$anonfun$1.apply(QueryPlan.scala:105)\n\tat org.apache.spark.sql.catalyst.trees.CurrentOrigin$.withOrigin(TreeNode.scala:70)\n\tat org.apache.spark.sql.catalyst.plans.QueryPlan.transformExpression$1(QueryPlan.scala:104)\n\tat org.apache.spark.sql.catalyst.plans.QueryPlan.org$apache$spark$sql$catalyst$plans$QueryPlan$$recursiveTransform$1(QueryPlan.scala:116)\n\tat org.apache.spark.sql.catalyst.plans.QueryPlan$$anonfun$org$apache$spark$sql$catalyst$plans$QueryPlan$$recursiveTransform$1$2.apply(QueryPlan.scala:121)\n\tat scala.collection.TraversableLike$$anonfun$map$1.apply(TraversableLike.scala:234)\n\tat scala.collection.TraversableLike$$anonfun$map$1.apply(TraversableLike.scala:234)\n\tat scala.collection.mutable.ResizableArray$class.foreach(ResizableArray.scala:59)\n\tat scala.collection.mutable.ArrayBuffer.foreach(ArrayBuffer.scala:48)\n\tat scala.collection.TraversableLike$class.map(TraversableLike.scala:234)\n\tat scala.collection.AbstractTraversable.map(Traversable.scala:104)\n\tat org.apache.spark.sql.catalyst.plans.QueryPlan.org$apache$spark$sql$catalyst$plans$QueryPlan$$recursiveTransform$1(QueryPlan.scala:121)\n\tat org.apache.spark.sql.catalyst.plans.QueryPlan$$anonfun$2.apply(QueryPlan.scala:126)\n\tat org.apache.spark.sql.catalyst.trees.TreeNode.mapProductIterator(TreeNode.scala:187)\n\tat org.apache.spark.sql.catalyst.plans.QueryPlan.mapExpressions(QueryPlan.scala:126)\n\tat org.apache.spark.sql.catalyst.plans.QueryPlan.transformExpressionsUp(QueryPlan.scala:93)\n\tat org.apache.spark.sql.catalyst.analysis.CheckAnalysis$$anonfun$checkAnalysis$1.apply(CheckAnalysis.scala:107)\n\tat org.apache.spark.sql.catalyst.analysis.CheckAnalysis$$anonfun$checkAnalysis$1.apply(CheckAnalysis.scala:85)\n\tat org.apache.spark.sql.catalyst.trees.TreeNode.foreachUp(TreeNode.scala:127)\n\tat org.apache.spark.sql.catalyst.analysis.CheckAnalysis$class.checkAnalysis(CheckAnalysis.scala:85)\n\tat org.apache.spark.sql.catalyst.analysis.Analyzer.checkAnalysis(Analyzer.scala:95)\n\tat org.apache.spark.sql.catalyst.analysis.Analyzer$$anonfun$executeAndCheck$1.apply(Analyzer.scala:108)\n\tat org.apache.spark.sql.catalyst.analysis.Analyzer$$anonfun$executeAndCheck$1.apply(Analyzer.scala:105)\n\tat org.apache.spark.sql.catalyst.plans.logical.AnalysisHelper$.markInAnalyzer(AnalysisHelper.scala:201)\n\tat org.apache.spark.sql.catalyst.analysis.Analyzer.executeAndCheck(Analyzer.scala:105)\n\tat org.apache.spark.sql.execution.QueryExecution.analyzed$lzycompute(QueryExecution.scala:57)\n\tat org.apache.spark.sql.execution.QueryExecution.analyzed(QueryExecution.scala:55)\n\tat org.apache.spark.sql.execution.QueryExecution.assertAnalyzed(QueryExecution.scala:47)\n\tat org.apache.spark.sql.Dataset$.ofRows(Dataset.scala:79)\n\tat org.apache.spark.sql.Dataset.org$apache$spark$sql$Dataset$$withPlan(Dataset.scala:3407)\n\tat org.apache.spark.sql.Dataset.select(Dataset.scala:1335)\n\tat sun.reflect.NativeMethodAccessorImpl.invoke0(Native Method)\n\tat sun.reflect.NativeMethodAccessorImpl.invoke(NativeMethodAccessorImpl.java:62)\n\tat sun.reflect.DelegatingMethodAccessorImpl.invoke(DelegatingMethodAccessorImpl.java:43)\n\tat java.lang.reflect.Method.invoke(Method.java:498)\n\tat py4j.reflection.MethodInvoker.invoke(MethodInvoker.java:244)\n\tat py4j.reflection.ReflectionEngine.invoke(ReflectionEngine.java:357)\n\tat py4j.Gateway.invoke(Gateway.java:282)\n\tat py4j.commands.AbstractCommand.invokeMethod(AbstractCommand.java:132)\n\tat py4j.commands.CallCommand.execute(CallCommand.java:79)\n\tat py4j.GatewayConnection.run(GatewayConnection.java:238)\n\tat java.lang.Thread.run(Thread.java:748)\n",
      "\nDuring handling of the above exception, another exception occurred:\n",
      "\u001b[0;31mAnalysisException\u001b[0m                         Traceback (most recent call last)",
      "\u001b[0;32m<ipython-input-81-0e7fa3c61955>\u001b[0m in \u001b[0;36m<module>\u001b[0;34m()\u001b[0m\n\u001b[0;32m----> 1\u001b[0;31m \u001b[0mx2\u001b[0m \u001b[0;34m=\u001b[0m \u001b[0mx\u001b[0m\u001b[0;34m.\u001b[0m\u001b[0mselect\u001b[0m\u001b[0;34m(\u001b[0m\u001b[0mexplode\u001b[0m\u001b[0;34m(\u001b[0m\u001b[0mx\u001b[0m\u001b[0;34m.\u001b[0m\u001b[0mevent\u001b[0m\u001b[0;34m.\u001b[0m\u001b[0meventDetail\u001b[0m\u001b[0;34m)\u001b[0m\u001b[0;34m.\u001b[0m\u001b[0malias\u001b[0m\u001b[0;34m(\u001b[0m\u001b[0;34m\"eventDetail\"\u001b[0m\u001b[0;34m)\u001b[0m\u001b[0;34m)\u001b[0m\u001b[0;34m\u001b[0m\u001b[0m\n\u001b[0m",
      "\u001b[0;32m/work/ericr/spark/sparkdev/spark/python/pyspark/sql/dataframe.py\u001b[0m in \u001b[0;36mselect\u001b[0;34m(self, *cols)\u001b[0m\n\u001b[1;32m   1318\u001b[0m         \u001b[0;34m[\u001b[0m\u001b[0mRow\u001b[0m\u001b[0;34m(\u001b[0m\u001b[0mname\u001b[0m\u001b[0;34m=\u001b[0m\u001b[0;34mu'Alice'\u001b[0m\u001b[0;34m,\u001b[0m \u001b[0mage\u001b[0m\u001b[0;34m=\u001b[0m\u001b[0;36m12\u001b[0m\u001b[0;34m)\u001b[0m\u001b[0;34m,\u001b[0m \u001b[0mRow\u001b[0m\u001b[0;34m(\u001b[0m\u001b[0mname\u001b[0m\u001b[0;34m=\u001b[0m\u001b[0;34mu'Bob'\u001b[0m\u001b[0;34m,\u001b[0m \u001b[0mage\u001b[0m\u001b[0;34m=\u001b[0m\u001b[0;36m15\u001b[0m\u001b[0;34m)\u001b[0m\u001b[0;34m]\u001b[0m\u001b[0;34m\u001b[0m\u001b[0m\n\u001b[1;32m   1319\u001b[0m         \"\"\"\n\u001b[0;32m-> 1320\u001b[0;31m         \u001b[0mjdf\u001b[0m \u001b[0;34m=\u001b[0m \u001b[0mself\u001b[0m\u001b[0;34m.\u001b[0m\u001b[0m_jdf\u001b[0m\u001b[0;34m.\u001b[0m\u001b[0mselect\u001b[0m\u001b[0;34m(\u001b[0m\u001b[0mself\u001b[0m\u001b[0;34m.\u001b[0m\u001b[0m_jcols\u001b[0m\u001b[0;34m(\u001b[0m\u001b[0;34m*\u001b[0m\u001b[0mcols\u001b[0m\u001b[0;34m)\u001b[0m\u001b[0;34m)\u001b[0m\u001b[0;34m\u001b[0m\u001b[0m\n\u001b[0m\u001b[1;32m   1321\u001b[0m         \u001b[0;32mreturn\u001b[0m \u001b[0mDataFrame\u001b[0m\u001b[0;34m(\u001b[0m\u001b[0mjdf\u001b[0m\u001b[0;34m,\u001b[0m \u001b[0mself\u001b[0m\u001b[0;34m.\u001b[0m\u001b[0msql_ctx\u001b[0m\u001b[0;34m)\u001b[0m\u001b[0;34m\u001b[0m\u001b[0m\n\u001b[1;32m   1322\u001b[0m \u001b[0;34m\u001b[0m\u001b[0m\n",
      "\u001b[0;32m/work/ericr/spark/sparkdev/spark/python/lib/py4j-0.10.7-src.zip/py4j/java_gateway.py\u001b[0m in \u001b[0;36m__call__\u001b[0;34m(self, *args)\u001b[0m\n\u001b[1;32m   1255\u001b[0m         \u001b[0manswer\u001b[0m \u001b[0;34m=\u001b[0m \u001b[0mself\u001b[0m\u001b[0;34m.\u001b[0m\u001b[0mgateway_client\u001b[0m\u001b[0;34m.\u001b[0m\u001b[0msend_command\u001b[0m\u001b[0;34m(\u001b[0m\u001b[0mcommand\u001b[0m\u001b[0;34m)\u001b[0m\u001b[0;34m\u001b[0m\u001b[0m\n\u001b[1;32m   1256\u001b[0m         return_value = get_return_value(\n\u001b[0;32m-> 1257\u001b[0;31m             answer, self.gateway_client, self.target_id, self.name)\n\u001b[0m\u001b[1;32m   1258\u001b[0m \u001b[0;34m\u001b[0m\u001b[0m\n\u001b[1;32m   1259\u001b[0m         \u001b[0;32mfor\u001b[0m \u001b[0mtemp_arg\u001b[0m \u001b[0;32min\u001b[0m \u001b[0mtemp_args\u001b[0m\u001b[0;34m:\u001b[0m\u001b[0;34m\u001b[0m\u001b[0m\n",
      "\u001b[0;32m/work/ericr/spark/sparkdev/spark/python/pyspark/sql/utils.py\u001b[0m in \u001b[0;36mdeco\u001b[0;34m(*a, **kw)\u001b[0m\n\u001b[1;32m     67\u001b[0m                                              e.java_exception.getStackTrace()))\n\u001b[1;32m     68\u001b[0m             \u001b[0;32mif\u001b[0m \u001b[0ms\u001b[0m\u001b[0;34m.\u001b[0m\u001b[0mstartswith\u001b[0m\u001b[0;34m(\u001b[0m\u001b[0;34m'org.apache.spark.sql.AnalysisException: '\u001b[0m\u001b[0;34m)\u001b[0m\u001b[0;34m:\u001b[0m\u001b[0;34m\u001b[0m\u001b[0m\n\u001b[0;32m---> 69\u001b[0;31m                 \u001b[0;32mraise\u001b[0m \u001b[0mAnalysisException\u001b[0m\u001b[0;34m(\u001b[0m\u001b[0ms\u001b[0m\u001b[0;34m.\u001b[0m\u001b[0msplit\u001b[0m\u001b[0;34m(\u001b[0m\u001b[0;34m': '\u001b[0m\u001b[0;34m,\u001b[0m \u001b[0;36m1\u001b[0m\u001b[0;34m)\u001b[0m\u001b[0;34m[\u001b[0m\u001b[0;36m1\u001b[0m\u001b[0;34m]\u001b[0m\u001b[0;34m,\u001b[0m \u001b[0mstackTrace\u001b[0m\u001b[0;34m)\u001b[0m\u001b[0;34m\u001b[0m\u001b[0m\n\u001b[0m\u001b[1;32m     70\u001b[0m             \u001b[0;32mif\u001b[0m \u001b[0ms\u001b[0m\u001b[0;34m.\u001b[0m\u001b[0mstartswith\u001b[0m\u001b[0;34m(\u001b[0m\u001b[0;34m'org.apache.spark.sql.catalyst.analysis'\u001b[0m\u001b[0;34m)\u001b[0m\u001b[0;34m:\u001b[0m\u001b[0;34m\u001b[0m\u001b[0m\n\u001b[1;32m     71\u001b[0m                 \u001b[0;32mraise\u001b[0m \u001b[0mAnalysisException\u001b[0m\u001b[0;34m(\u001b[0m\u001b[0ms\u001b[0m\u001b[0;34m.\u001b[0m\u001b[0msplit\u001b[0m\u001b[0;34m(\u001b[0m\u001b[0;34m': '\u001b[0m\u001b[0;34m,\u001b[0m \u001b[0;36m1\u001b[0m\u001b[0;34m)\u001b[0m\u001b[0;34m[\u001b[0m\u001b[0;36m1\u001b[0m\u001b[0;34m]\u001b[0m\u001b[0;34m,\u001b[0m \u001b[0mstackTrace\u001b[0m\u001b[0;34m)\u001b[0m\u001b[0;34m\u001b[0m\u001b[0m\n",
      "\u001b[0;31mAnalysisException\u001b[0m: \"cannot resolve 'explode(`event`.`eventDetail`)' due to data type mismatch: input to function explode should be array or map type, not struct<brand:string,connectionInfo:struct<localIpv4Address:struct<addr:string,subnetMask:string>,sourceInSameSubnet:string,sourceIpv4Address:struct<addr:string,subnetMask:string>,sourceIpv6Address:struct<addr:string>,sourceMacAddress:string>,connectionState:string,connectionStateCurrent:bigint,connectionStateMax:bigint,connectionStateMin:bigint,consumableLabelCode:string,consumableManufacturingSignature:string,consumablePercentageLevelRemaining:bigint,consumableProductNumber:string,consumableSerialNumber:string,consumableState:string,consumableUniqueId:string,dataSource:string,domainConfig:struct<domainName:string,hostName:string,nameServerConfig:struct<ipv4Addresses:array<struct<addr:string>>,ipv6Addresses:array<struct<addr:string>>>,searchDomains:array<string>>,downloadDuration:bigint,dustLevel:bigint,errorCategory:string,errorCode:string,errorType:string,eventCategory:string,eventCode:string,eventDetailAssert:struct<eventCode:string,eventOccurrences:bigint>,eventDetailConsumable:struct<brand:string,consumableLabelCode:string,consumablePercentageLevelRemaining:bigint,consumableProductNumber:string,consumableSerialNumber:string,consumableState:string,consumableUniqueId:string,eventTrigger:string,installDate:string,isRefilled:string,isSetup:string,isTrial:string,manufactureDate:string,manufacturer:string,measuredQuantityState:string,midLabel:string,prevCartridge:struct<consumablePercentageLevelRemaining:bigint,consumableUniqueId:string>,stID:string,triggerCategory:string,version:string>,eventDetailErrorRecovery:struct<jobErrorRecovery:struct<errorType:string,failureReason:string,recoveryState:string>,version:string>,eventDetailJobStatus:struct<eventCode:string,eventOccurrences:bigint>,eventDetailSystemError:struct<errorCategory:string,eventCode:string,version:string>,eventDetailType:string,eventIntArray:array<bigint>,eventOccurrences:bigint,eventTrigger:string,eventTriggerReason:string,event_code:string,firmwareAssert:struct<app:string,code:string,file:string,fileCrc:string,firmwareVersion:string,line:bigint,type:string>,firmwareVersion:string,fmpRegexCandidate:string,freeMobilePhotoInfo:struct<fmpCounted:string,fmpMaxLength:bigint,fmpMaxWidth:bigint,fmpPageCount:bigint,fmpPages:string,nonFmpPageCount:bigint,nonFmpPages:string>,fwAssert:struct<app:string,code:string,file:string,fileCrc:string,firmwareVersion:string,line:bigint,type:string>,hasUsedNonHp:string,httpUserAgent:string,inkFillCapacity:bigint,inkLevelGauge:bigint,inkLevelSensorValue:bigint,installDate:string,installDuration:bigint,ippJobStatus:struct<dateTimeAtCompleted:string,dateTimeAtCreation:string,dateTimeAtProcessing:string,jobDocumentAccessErrors:string,jobImpressions:bigint,jobImpressionsCompleted:bigint,jobKOctets:bigint,jobKOctetsProcessed:bigint,jobMediaSheets:bigint,jobMediaSheetsCompleted:bigint,jobName:string,jobOriginatingUserName:string,jobPrinterURI:string,jobPrinterUpTime:bigint,jobPrinterUri:string,jobState:string,jobStateMessage:string,jobStateReasons:string,jobURI:string,jobUri:string,jobUuid:string>,ippMediaSize:struct<xDimension:bigint,yDimension:bigint>,isInstantInkSubscription:string,isRefilled:string,isSetup:string,isTrial:string,jobErrorRecovery:struct<errorType:string,failureReason:string,jobRecovery:string,recoveryState:string,version:string>,jobRecovery:string,jobType:string,job_type:string,key:string,linkStats:struct<rxDropped:bigint,rxErrors:bigint,rxErros:bigint,rxPackets:bigint,txDropped:bigint,txErrors:bigint,txPackets:bigint>,makeAndModel:string,manufactureDate:string,manufacturer:string,measuredQuantityState:string,midLabel:string,modelNumber:string,networkConfig:struct<ipv4Address:struct<addr:string,subnetMask:string>,ipv4Gateway:string,ipv6Addresses:array<struct<addr:string>>,ipv6Gateway:string>,networkInterfaceName:string,networkInterfaceType:string,penStatus:string,postStartupSupplyVolume:bigint,prevCartridge:struct<consumablePercentageLevelRemaining:bigint,consumableUniqueId:string>,previousCartridge:struct<consumablePercentageLevelRemaining:bigint,consumableUniqueId:string>,previousFwVersion:string,printInfo:struct<duplex:string,jobImpressionCompleted:bigint,jobImpressionsCompleted:bigint,mediaSizeDetected:struct<xDimension:bigint,yDimension:bigint>,mediaSizeRequested:struct<xDimension:bigint,yDimension:bigint>,mediaType:string,printMode:string>,printerRegion:bigint,productId:string,reason:string,scanInfo:struct<duplex:string,mediaSizeDetected:struct<height:bigint>,mediaSizeRequested:struct<height:bigint,width:bigint>>,selectabilityNumber:string,selfHeal:struct<actions:array<string>,results:array<string>,selfHealVersion:string>,selfheal:struct<actions:array<string>,results:array<string>,selfhealTest:string>,sequenceNumber:bigint,serialNumber:string,stID:string,stId:string,stateEnabled:boolean,stateStabilisationDelay:bigint,supplyFamilyId:bigint,supplyMarkedEmpty:string,supplyModelNumber:bigint,supplyRegion:bigint,supplyType:bigint,t4:bigint,totalInkUsageGauge:bigint,triggerCategory:string,uapConfig:struct<adminDisabled:string,powered:string>,updateMethod:string,updateSuccess:string,updateTriggerReason:string,updatedFwVersion:string,userConfig:struct<adminDisabled:string,changeCounter:bigint,ipv4ConfigMethod:string,ipv4Enabled:string,ipv6ConfigMethod:string,ipv6Enabled:string,passwdChanged:string,powered:string,ssid:string>,versio:string,version:string,wifiConfig:struct<associatedBssid:string,chanGraph:array<struct<anpi:bigint,channel:bigint,loadPercent:bigint,percentLoad:bigint>>,channelGraphs:array<struct<anpi:bigint,channel:bigint,percentLoad:bigint>>,channelInfos:array<struct<channel:bigint,signalAverage:bigint,signalMax:bigint,signalMin:bigint,singalAverage:bigint,singalMax:bigint,singalMin:bigint,ssidsCount:bigint>>,directedScanCount:bigint,lastAssociationCode:string,lastDeauthReason:bigint,signalQuality:struct<noise:bigint,strength:bigint>,undirectedScanCount:bigint>>;;\\n'Project [explode(event#39.eventDetail) AS eventDetail#265]\\n+- Project [event#39]\\n   +- Generate explode(events#14), false, [event#39]\\n      +- LogicalRDD [data_type#13, events#14, henq_metadata#15, links#16, metadata#17, originator#18, payloadManifestJec#19, subscriptionId#20, system_check_id#21, version#22], false\\n\""
     ]
    }
   ],
   "source": [
    "x2 = x.select(explode(x.event.eventDetail).alias(\"eventDetail\"))"
   ]
  },
  {
   "cell_type": "code",
   "execution_count": 76,
   "metadata": {},
   "outputs": [],
   "source": [
    "systemErrors = x.filter(\"event.eventCategory == 'systemError'\")"
   ]
  },
  {
   "cell_type": "code",
   "execution_count": 78,
   "metadata": {},
   "outputs": [
    {
     "name": "stdout",
     "output_type": "stream",
     "text": [
      "+--------------------------------------------------------------------------------------------------------------------------------------------------------------------------------------------------------+\n",
      "|                                                                                                                                                                                                   event|\n",
      "+--------------------------------------------------------------------------------------------------------------------------------------------------------------------------------------------------------+\n",
      "|[2018-08-09T23:18:47.0Z, systemError, [,,,,,,,,,,,,,,,,, hardwareFailure,,,, 71.00.E9,,,,,,,,,,,,,,,,,,,,,,,,,,,,,,,,,,,,,,,,,,,,,,,,,,,,,,,,,,,,,,,,,,,,,,,,,,,,,,, 1.0.0,], com.hp.cdm.service.even...|\n",
      "|[2001-04-28T16:46:26.0Z, systemError, [,,,,,,,,,,,,,,,,, hardwareFailure,,,, 71.00.E9,,,,,,,,,,,,,,,,,,,,,,,,,,,,,,,,,,,,,,,,,,,,,,,,,,,,,,,,,,,,,,,,,,,,,,,,,,,,,,, 1.0.0,], com.hp.cdm.service.even...|\n",
      "+--------------------------------------------------------------------------------------------------------------------------------------------------------------------------------------------------------+\n",
      "only showing top 2 rows\n",
      "\n"
     ]
    }
   ],
   "source": [
    "systemErrors.show(2,truncate=200)"
   ]
  },
  {
   "cell_type": "code",
   "execution_count": 18,
   "metadata": {},
   "outputs": [
    {
     "name": "stdout",
     "output_type": "stream",
     "text": [
      "root\n",
      " |-- event: struct (nullable = true)\n",
      " |    |-- dateTime: string (nullable = true)\n",
      " |    |-- eventCategory: string (nullable = true)\n",
      " |    |-- eventDetail: struct (nullable = true)\n",
      " |    |    |-- brand: string (nullable = true)\n",
      " |    |    |-- connectionInfo: struct (nullable = true)\n",
      " |    |    |    |-- localIpv4Address: struct (nullable = true)\n",
      " |    |    |    |    |-- addr: string (nullable = true)\n",
      " |    |    |    |    |-- subnetMask: string (nullable = true)\n",
      " |    |    |    |-- sourceInSameSubnet: string (nullable = true)\n",
      " |    |    |    |-- sourceIpv4Address: struct (nullable = true)\n",
      " |    |    |    |    |-- addr: string (nullable = true)\n",
      " |    |    |    |    |-- subnetMask: string (nullable = true)\n",
      " |    |    |    |-- sourceIpv6Address: struct (nullable = true)\n",
      " |    |    |    |    |-- addr: string (nullable = true)\n",
      " |    |    |    |-- sourceMacAddress: string (nullable = true)\n",
      " |    |    |-- connectionState: string (nullable = true)\n",
      " |    |    |-- connectionStateCurrent: long (nullable = true)\n",
      " |    |    |-- connectionStateMax: long (nullable = true)\n",
      " |    |    |-- connectionStateMin: long (nullable = true)\n",
      " |    |    |-- consumableLabelCode: string (nullable = true)\n",
      " |    |    |-- consumableManufacturingSignature: string (nullable = true)\n",
      " |    |    |-- consumablePercentageLevelRemaining: long (nullable = true)\n",
      " |    |    |-- consumableProductNumber: string (nullable = true)\n",
      " |    |    |-- consumableSerialNumber: string (nullable = true)\n",
      " |    |    |-- consumableState: string (nullable = true)\n",
      " |    |    |-- consumableUniqueId: string (nullable = true)\n",
      " |    |    |-- dataSource: string (nullable = true)\n",
      " |    |    |-- domainConfig: struct (nullable = true)\n",
      " |    |    |    |-- domainName: string (nullable = true)\n",
      " |    |    |    |-- hostName: string (nullable = true)\n",
      " |    |    |    |-- nameServerConfig: struct (nullable = true)\n",
      " |    |    |    |    |-- ipv4Addresses: array (nullable = true)\n",
      " |    |    |    |    |    |-- element: struct (containsNull = true)\n",
      " |    |    |    |    |    |    |-- addr: string (nullable = true)\n",
      " |    |    |    |    |-- ipv6Addresses: array (nullable = true)\n",
      " |    |    |    |    |    |-- element: struct (containsNull = true)\n",
      " |    |    |    |    |    |    |-- addr: string (nullable = true)\n",
      " |    |    |    |-- searchDomains: array (nullable = true)\n",
      " |    |    |    |    |-- element: string (containsNull = true)\n",
      " |    |    |-- downloadDuration: long (nullable = true)\n",
      " |    |    |-- dustLevel: long (nullable = true)\n",
      " |    |    |-- errorCategory: string (nullable = true)\n",
      " |    |    |-- errorCode: string (nullable = true)\n",
      " |    |    |-- errorType: string (nullable = true)\n",
      " |    |    |-- eventCategory: string (nullable = true)\n",
      " |    |    |-- eventCode: string (nullable = true)\n",
      " |    |    |-- eventDetailAssert: struct (nullable = true)\n",
      " |    |    |    |-- eventCode: string (nullable = true)\n",
      " |    |    |    |-- eventOccurrences: long (nullable = true)\n",
      " |    |    |-- eventDetailConsumable: struct (nullable = true)\n",
      " |    |    |    |-- brand: string (nullable = true)\n",
      " |    |    |    |-- consumableLabelCode: string (nullable = true)\n",
      " |    |    |    |-- consumablePercentageLevelRemaining: long (nullable = true)\n",
      " |    |    |    |-- consumableProductNumber: string (nullable = true)\n",
      " |    |    |    |-- consumableSerialNumber: string (nullable = true)\n",
      " |    |    |    |-- consumableState: string (nullable = true)\n",
      " |    |    |    |-- consumableUniqueId: string (nullable = true)\n",
      " |    |    |    |-- eventTrigger: string (nullable = true)\n",
      " |    |    |    |-- installDate: string (nullable = true)\n",
      " |    |    |    |-- isRefilled: string (nullable = true)\n",
      " |    |    |    |-- isSetup: string (nullable = true)\n",
      " |    |    |    |-- isTrial: string (nullable = true)\n",
      " |    |    |    |-- manufactureDate: string (nullable = true)\n",
      " |    |    |    |-- manufacturer: string (nullable = true)\n",
      " |    |    |    |-- measuredQuantityState: string (nullable = true)\n",
      " |    |    |    |-- midLabel: string (nullable = true)\n",
      " |    |    |    |-- prevCartridge: struct (nullable = true)\n",
      " |    |    |    |    |-- consumablePercentageLevelRemaining: long (nullable = true)\n",
      " |    |    |    |    |-- consumableUniqueId: string (nullable = true)\n",
      " |    |    |    |-- stID: string (nullable = true)\n",
      " |    |    |    |-- triggerCategory: string (nullable = true)\n",
      " |    |    |    |-- version: string (nullable = true)\n",
      " |    |    |-- eventDetailErrorRecovery: struct (nullable = true)\n",
      " |    |    |    |-- jobErrorRecovery: struct (nullable = true)\n",
      " |    |    |    |    |-- errorType: string (nullable = true)\n",
      " |    |    |    |    |-- failureReason: string (nullable = true)\n",
      " |    |    |    |    |-- recoveryState: string (nullable = true)\n",
      " |    |    |    |-- version: string (nullable = true)\n",
      " |    |    |-- eventDetailJobStatus: struct (nullable = true)\n",
      " |    |    |    |-- eventCode: string (nullable = true)\n",
      " |    |    |    |-- eventOccurrences: long (nullable = true)\n",
      " |    |    |-- eventDetailSystemError: struct (nullable = true)\n",
      " |    |    |    |-- errorCategory: string (nullable = true)\n",
      " |    |    |    |-- eventCode: string (nullable = true)\n",
      " |    |    |    |-- version: string (nullable = true)\n",
      " |    |    |-- eventDetailType: string (nullable = true)\n",
      " |    |    |-- eventIntArray: array (nullable = true)\n",
      " |    |    |    |-- element: long (containsNull = true)\n",
      " |    |    |-- eventOccurrences: long (nullable = true)\n",
      " |    |    |-- eventTrigger: string (nullable = true)\n",
      " |    |    |-- eventTriggerReason: string (nullable = true)\n",
      " |    |    |-- event_code: string (nullable = true)\n",
      " |    |    |-- firmwareAssert: struct (nullable = true)\n",
      " |    |    |    |-- app: string (nullable = true)\n",
      " |    |    |    |-- code: string (nullable = true)\n",
      " |    |    |    |-- file: string (nullable = true)\n",
      " |    |    |    |-- fileCrc: string (nullable = true)\n",
      " |    |    |    |-- firmwareVersion: string (nullable = true)\n",
      " |    |    |    |-- line: long (nullable = true)\n",
      " |    |    |    |-- type: string (nullable = true)\n",
      " |    |    |-- firmwareVersion: string (nullable = true)\n",
      " |    |    |-- fmpRegexCandidate: string (nullable = true)\n",
      " |    |    |-- freeMobilePhotoInfo: struct (nullable = true)\n",
      " |    |    |    |-- fmpCounted: string (nullable = true)\n",
      " |    |    |    |-- fmpMaxLength: long (nullable = true)\n",
      " |    |    |    |-- fmpMaxWidth: long (nullable = true)\n",
      " |    |    |    |-- fmpPageCount: long (nullable = true)\n",
      " |    |    |    |-- fmpPages: string (nullable = true)\n",
      " |    |    |    |-- nonFmpPageCount: long (nullable = true)\n",
      " |    |    |    |-- nonFmpPages: string (nullable = true)\n",
      " |    |    |-- fwAssert: struct (nullable = true)\n",
      " |    |    |    |-- app: string (nullable = true)\n",
      " |    |    |    |-- code: string (nullable = true)\n",
      " |    |    |    |-- file: string (nullable = true)\n",
      " |    |    |    |-- fileCrc: string (nullable = true)\n",
      " |    |    |    |-- firmwareVersion: string (nullable = true)\n",
      " |    |    |    |-- line: long (nullable = true)\n",
      " |    |    |    |-- type: string (nullable = true)\n",
      " |    |    |-- hasUsedNonHp: string (nullable = true)\n",
      " |    |    |-- httpUserAgent: string (nullable = true)\n",
      " |    |    |-- inkFillCapacity: long (nullable = true)\n",
      " |    |    |-- inkLevelGauge: long (nullable = true)\n",
      " |    |    |-- inkLevelSensorValue: long (nullable = true)\n",
      " |    |    |-- installDate: string (nullable = true)\n",
      " |    |    |-- installDuration: long (nullable = true)\n",
      " |    |    |-- ippJobStatus: struct (nullable = true)\n",
      " |    |    |    |-- dateTimeAtCompleted: string (nullable = true)\n",
      " |    |    |    |-- dateTimeAtCreation: string (nullable = true)\n",
      " |    |    |    |-- dateTimeAtProcessing: string (nullable = true)\n",
      " |    |    |    |-- jobDocumentAccessErrors: string (nullable = true)\n",
      " |    |    |    |-- jobImpressions: long (nullable = true)\n",
      " |    |    |    |-- jobImpressionsCompleted: long (nullable = true)\n",
      " |    |    |    |-- jobKOctets: long (nullable = true)\n",
      " |    |    |    |-- jobKOctetsProcessed: long (nullable = true)\n",
      " |    |    |    |-- jobMediaSheets: long (nullable = true)\n",
      " |    |    |    |-- jobMediaSheetsCompleted: long (nullable = true)\n",
      " |    |    |    |-- jobName: string (nullable = true)\n",
      " |    |    |    |-- jobOriginatingUserName: string (nullable = true)\n",
      " |    |    |    |-- jobPrinterURI: string (nullable = true)\n",
      " |    |    |    |-- jobPrinterUpTime: long (nullable = true)\n",
      " |    |    |    |-- jobPrinterUri: string (nullable = true)\n",
      " |    |    |    |-- jobState: string (nullable = true)\n",
      " |    |    |    |-- jobStateMessage: string (nullable = true)\n",
      " |    |    |    |-- jobStateReasons: string (nullable = true)\n",
      " |    |    |    |-- jobURI: string (nullable = true)\n",
      " |    |    |    |-- jobUri: string (nullable = true)\n",
      " |    |    |    |-- jobUuid: string (nullable = true)\n",
      " |    |    |-- ippMediaSize: struct (nullable = true)\n",
      " |    |    |    |-- xDimension: long (nullable = true)\n",
      " |    |    |    |-- yDimension: long (nullable = true)\n",
      " |    |    |-- isInstantInkSubscription: string (nullable = true)\n",
      " |    |    |-- isRefilled: string (nullable = true)\n",
      " |    |    |-- isSetup: string (nullable = true)\n",
      " |    |    |-- isTrial: string (nullable = true)\n",
      " |    |    |-- jobErrorRecovery: struct (nullable = true)\n",
      " |    |    |    |-- errorType: string (nullable = true)\n",
      " |    |    |    |-- failureReason: string (nullable = true)\n",
      " |    |    |    |-- jobRecovery: string (nullable = true)\n",
      " |    |    |    |-- recoveryState: string (nullable = true)\n",
      " |    |    |    |-- version: string (nullable = true)\n",
      " |    |    |-- jobRecovery: string (nullable = true)\n",
      " |    |    |-- jobType: string (nullable = true)\n",
      " |    |    |-- job_type: string (nullable = true)\n",
      " |    |    |-- key: string (nullable = true)\n",
      " |    |    |-- linkStats: struct (nullable = true)\n",
      " |    |    |    |-- rxDropped: long (nullable = true)\n",
      " |    |    |    |-- rxErrors: long (nullable = true)\n",
      " |    |    |    |-- rxErros: long (nullable = true)\n",
      " |    |    |    |-- rxPackets: long (nullable = true)\n",
      " |    |    |    |-- txDropped: long (nullable = true)\n",
      " |    |    |    |-- txErrors: long (nullable = true)\n",
      " |    |    |    |-- txPackets: long (nullable = true)\n",
      " |    |    |-- makeAndModel: string (nullable = true)\n",
      " |    |    |-- manufactureDate: string (nullable = true)\n",
      " |    |    |-- manufacturer: string (nullable = true)\n",
      " |    |    |-- measuredQuantityState: string (nullable = true)\n",
      " |    |    |-- midLabel: string (nullable = true)\n",
      " |    |    |-- modelNumber: string (nullable = true)\n",
      " |    |    |-- networkConfig: struct (nullable = true)\n",
      " |    |    |    |-- ipv4Address: struct (nullable = true)\n",
      " |    |    |    |    |-- addr: string (nullable = true)\n",
      " |    |    |    |    |-- subnetMask: string (nullable = true)\n",
      " |    |    |    |-- ipv4Gateway: string (nullable = true)\n",
      " |    |    |    |-- ipv6Addresses: array (nullable = true)\n",
      " |    |    |    |    |-- element: struct (containsNull = true)\n",
      " |    |    |    |    |    |-- addr: string (nullable = true)\n",
      " |    |    |    |-- ipv6Gateway: string (nullable = true)\n",
      " |    |    |-- networkInterfaceName: string (nullable = true)\n",
      " |    |    |-- networkInterfaceType: string (nullable = true)\n",
      " |    |    |-- penStatus: string (nullable = true)\n",
      " |    |    |-- postStartupSupplyVolume: long (nullable = true)\n",
      " |    |    |-- prevCartridge: struct (nullable = true)\n",
      " |    |    |    |-- consumablePercentageLevelRemaining: long (nullable = true)\n",
      " |    |    |    |-- consumableUniqueId: string (nullable = true)\n",
      " |    |    |-- previousCartridge: struct (nullable = true)\n",
      " |    |    |    |-- consumablePercentageLevelRemaining: long (nullable = true)\n",
      " |    |    |    |-- consumableUniqueId: string (nullable = true)\n",
      " |    |    |-- previousFwVersion: string (nullable = true)\n",
      " |    |    |-- printInfo: struct (nullable = true)\n",
      " |    |    |    |-- duplex: string (nullable = true)\n",
      " |    |    |    |-- jobImpressionCompleted: long (nullable = true)\n",
      " |    |    |    |-- jobImpressionsCompleted: long (nullable = true)\n",
      " |    |    |    |-- mediaSizeDetected: struct (nullable = true)\n",
      " |    |    |    |    |-- xDimension: long (nullable = true)\n",
      " |    |    |    |    |-- yDimension: long (nullable = true)\n",
      " |    |    |    |-- mediaSizeRequested: struct (nullable = true)\n",
      " |    |    |    |    |-- xDimension: long (nullable = true)\n",
      " |    |    |    |    |-- yDimension: long (nullable = true)\n",
      " |    |    |    |-- mediaType: string (nullable = true)\n",
      " |    |    |    |-- printMode: string (nullable = true)\n",
      " |    |    |-- printerRegion: long (nullable = true)\n",
      " |    |    |-- productId: string (nullable = true)\n",
      " |    |    |-- reason: string (nullable = true)\n",
      " |    |    |-- scanInfo: struct (nullable = true)\n",
      " |    |    |    |-- duplex: string (nullable = true)\n",
      " |    |    |    |-- mediaSizeDetected: struct (nullable = true)\n",
      " |    |    |    |    |-- height: long (nullable = true)\n",
      " |    |    |    |-- mediaSizeRequested: struct (nullable = true)\n",
      " |    |    |    |    |-- height: long (nullable = true)\n",
      " |    |    |    |    |-- width: long (nullable = true)\n",
      " |    |    |-- selectabilityNumber: string (nullable = true)\n",
      " |    |    |-- selfHeal: struct (nullable = true)\n",
      " |    |    |    |-- actions: array (nullable = true)\n",
      " |    |    |    |    |-- element: string (containsNull = true)\n",
      " |    |    |    |-- results: array (nullable = true)\n",
      " |    |    |    |    |-- element: string (containsNull = true)\n",
      " |    |    |    |-- selfHealVersion: string (nullable = true)\n",
      " |    |    |-- selfheal: struct (nullable = true)\n",
      " |    |    |    |-- actions: array (nullable = true)\n",
      " |    |    |    |    |-- element: string (containsNull = true)\n",
      " |    |    |    |-- results: array (nullable = true)\n",
      " |    |    |    |    |-- element: string (containsNull = true)\n",
      " |    |    |    |-- selfhealTest: string (nullable = true)\n",
      " |    |    |-- sequenceNumber: long (nullable = true)\n",
      " |    |    |-- serialNumber: string (nullable = true)\n",
      " |    |    |-- stID: string (nullable = true)\n",
      " |    |    |-- stId: string (nullable = true)\n",
      " |    |    |-- stateEnabled: boolean (nullable = true)\n",
      " |    |    |-- stateStabilisationDelay: long (nullable = true)\n",
      " |    |    |-- supplyFamilyId: long (nullable = true)\n",
      " |    |    |-- supplyMarkedEmpty: string (nullable = true)\n",
      " |    |    |-- supplyModelNumber: long (nullable = true)\n",
      " |    |    |-- supplyRegion: long (nullable = true)\n",
      " |    |    |-- supplyType: long (nullable = true)\n",
      " |    |    |-- t4: long (nullable = true)\n",
      " |    |    |-- totalInkUsageGauge: long (nullable = true)\n",
      " |    |    |-- triggerCategory: string (nullable = true)\n",
      " |    |    |-- uapConfig: struct (nullable = true)\n",
      " |    |    |    |-- adminDisabled: string (nullable = true)\n",
      " |    |    |    |-- powered: string (nullable = true)\n",
      " |    |    |-- updateMethod: string (nullable = true)\n",
      " |    |    |-- updateSuccess: string (nullable = true)\n",
      " |    |    |-- updateTriggerReason: string (nullable = true)\n",
      " |    |    |-- updatedFwVersion: string (nullable = true)\n",
      " |    |    |-- userConfig: struct (nullable = true)\n",
      " |    |    |    |-- adminDisabled: string (nullable = true)\n",
      " |    |    |    |-- changeCounter: long (nullable = true)\n",
      " |    |    |    |-- ipv4ConfigMethod: string (nullable = true)\n",
      " |    |    |    |-- ipv4Enabled: string (nullable = true)\n",
      " |    |    |    |-- ipv6ConfigMethod: string (nullable = true)\n",
      " |    |    |    |-- ipv6Enabled: string (nullable = true)\n",
      " |    |    |    |-- passwdChanged: string (nullable = true)\n",
      " |    |    |    |-- powered: string (nullable = true)\n",
      " |    |    |    |-- ssid: string (nullable = true)\n",
      " |    |    |-- versio: string (nullable = true)\n",
      " |    |    |-- version: string (nullable = true)\n",
      " |    |    |-- wifiConfig: struct (nullable = true)\n",
      " |    |    |    |-- associatedBssid: string (nullable = true)\n",
      " |    |    |    |-- chanGraph: array (nullable = true)\n",
      " |    |    |    |    |-- element: struct (containsNull = true)\n",
      " |    |    |    |    |    |-- anpi: long (nullable = true)\n",
      " |    |    |    |    |    |-- channel: long (nullable = true)\n",
      " |    |    |    |    |    |-- loadPercent: long (nullable = true)\n",
      " |    |    |    |    |    |-- percentLoad: long (nullable = true)\n",
      " |    |    |    |-- channelGraphs: array (nullable = true)\n",
      " |    |    |    |    |-- element: struct (containsNull = true)\n",
      " |    |    |    |    |    |-- anpi: long (nullable = true)\n",
      " |    |    |    |    |    |-- channel: long (nullable = true)\n",
      " |    |    |    |    |    |-- percentLoad: long (nullable = true)\n",
      " |    |    |    |-- channelInfos: array (nullable = true)\n",
      " |    |    |    |    |-- element: struct (containsNull = true)\n",
      " |    |    |    |    |    |-- channel: long (nullable = true)\n",
      " |    |    |    |    |    |-- signalAverage: long (nullable = true)\n",
      " |    |    |    |    |    |-- signalMax: long (nullable = true)\n",
      " |    |    |    |    |    |-- signalMin: long (nullable = true)\n",
      " |    |    |    |    |    |-- singalAverage: long (nullable = true)\n",
      " |    |    |    |    |    |-- singalMax: long (nullable = true)\n",
      " |    |    |    |    |    |-- singalMin: long (nullable = true)\n",
      " |    |    |    |    |    |-- ssidsCount: long (nullable = true)\n",
      " |    |    |    |-- directedScanCount: long (nullable = true)\n",
      " |    |    |    |-- lastAssociationCode: string (nullable = true)\n",
      " |    |    |    |-- lastDeauthReason: long (nullable = true)\n",
      " |    |    |    |-- signalQuality: struct (nullable = true)\n",
      " |    |    |    |    |-- noise: long (nullable = true)\n",
      " |    |    |    |    |-- strength: long (nullable = true)\n",
      " |    |    |    |-- undirectedScanCount: long (nullable = true)\n",
      " |    |-- eventDetailType: string (nullable = true)\n",
      " |    |-- onDurationTime (sec): long (nullable = true)\n",
      " |    |-- powerCycleCount: long (nullable = true)\n",
      " |    |-- sequenceNumber: long (nullable = true)\n",
      "\n"
     ]
    }
   ],
   "source": [
    "x.printSchema()"
   ]
  },
  {
   "cell_type": "code",
   "execution_count": null,
   "metadata": {},
   "outputs": [],
   "source": []
  },
  {
   "cell_type": "code",
   "execution_count": 72,
   "metadata": {},
   "outputs": [
    {
     "data": {
      "text/plain": [
       "DataFrame[event: struct<dateTime:string,eventCategory:string,eventDetail:struct<brand:string,connectionInfo:struct<localIpv4Address:struct<addr:string,subnetMask:string>,sourceInSameSubnet:string,sourceIpv4Address:struct<addr:string,subnetMask:string>,sourceIpv6Address:struct<addr:string>,sourceMacAddress:string>,connectionState:string,connectionStateCurrent:bigint,connectionStateMax:bigint,connectionStateMin:bigint,consumableLabelCode:string,consumableManufacturingSignature:string,consumablePercentageLevelRemaining:bigint,consumableProductNumber:string,consumableSerialNumber:string,consumableState:string,consumableUniqueId:string,dataSource:string,domainConfig:struct<domainName:string,hostName:string,nameServerConfig:struct<ipv4Addresses:array<struct<addr:string>>,ipv6Addresses:array<struct<addr:string>>>,searchDomains:array<string>>,downloadDuration:bigint,dustLevel:bigint,errorCategory:string,errorCode:string,errorType:string,eventCategory:string,eventCode:string,eventDetailAssert:struct<eventCode:string,eventOccurrences:bigint>,eventDetailConsumable:struct<brand:string,consumableLabelCode:string,consumablePercentageLevelRemaining:bigint,consumableProductNumber:string,consumableSerialNumber:string,consumableState:string,consumableUniqueId:string,eventTrigger:string,installDate:string,isRefilled:string,isSetup:string,isTrial:string,manufactureDate:string,manufacturer:string,measuredQuantityState:string,midLabel:string,prevCartridge:struct<consumablePercentageLevelRemaining:bigint,consumableUniqueId:string>,stID:string,triggerCategory:string,version:string>,eventDetailErrorRecovery:struct<jobErrorRecovery:struct<errorType:string,failureReason:string,recoveryState:string>,version:string>,eventDetailJobStatus:struct<eventCode:string,eventOccurrences:bigint>,eventDetailSystemError:struct<errorCategory:string,eventCode:string,version:string>,eventDetailType:string,eventIntArray:array<bigint>,eventOccurrences:bigint,eventTrigger:string,eventTriggerReason:string,event_code:string,firmwareAssert:struct<app:string,code:string,file:string,fileCrc:string,firmwareVersion:string,line:bigint,type:string>,firmwareVersion:string,fmpRegexCandidate:string,freeMobilePhotoInfo:struct<fmpCounted:string,fmpMaxLength:bigint,fmpMaxWidth:bigint,fmpPageCount:bigint,fmpPages:string,nonFmpPageCount:bigint,nonFmpPages:string>,fwAssert:struct<app:string,code:string,file:string,fileCrc:string,firmwareVersion:string,line:bigint,type:string>,hasUsedNonHp:string,httpUserAgent:string,inkFillCapacity:bigint,inkLevelGauge:bigint,inkLevelSensorValue:bigint,installDate:string,installDuration:bigint,ippJobStatus:struct<dateTimeAtCompleted:string,dateTimeAtCreation:string,dateTimeAtProcessing:string,jobDocumentAccessErrors:string,jobImpressions:bigint,jobImpressionsCompleted:bigint,jobKOctets:bigint,jobKOctetsProcessed:bigint,jobMediaSheets:bigint,jobMediaSheetsCompleted:bigint,jobName:string,jobOriginatingUserName:string,jobPrinterURI:string,jobPrinterUpTime:bigint,jobPrinterUri:string,jobState:string,jobStateMessage:string,jobStateReasons:string,jobURI:string,jobUri:string,jobUuid:string>,ippMediaSize:struct<xDimension:bigint,yDimension:bigint>,isInstantInkSubscription:string,isRefilled:string,isSetup:string,isTrial:string,jobErrorRecovery:struct<errorType:string,failureReason:string,jobRecovery:string,recoveryState:string,version:string>,jobRecovery:string,jobType:string,job_type:string,key:string,linkStats:struct<rxDropped:bigint,rxErrors:bigint,rxErros:bigint,rxPackets:bigint,txDropped:bigint,txErrors:bigint,txPackets:bigint>,makeAndModel:string,manufactureDate:string,manufacturer:string,measuredQuantityState:string,midLabel:string,modelNumber:string,networkConfig:struct<ipv4Address:struct<addr:string,subnetMask:string>,ipv4Gateway:string,ipv6Addresses:array<struct<addr:string>>,ipv6Gateway:string>,networkInterfaceName:string,networkInterfaceType:string,penStatus:string,postStartupSupplyVolume:bigint,prevCartridge:struct<consumablePercentageLevelRemaining:bigint,consumableUniqueId:string>,previousCartridge:struct<consumablePercentageLevelRemaining:bigint,consumableUniqueId:string>,previousFwVersion:string,printInfo:struct<duplex:string,jobImpressionCompleted:bigint,jobImpressionsCompleted:bigint,mediaSizeDetected:struct<xDimension:bigint,yDimension:bigint>,mediaSizeRequested:struct<xDimension:bigint,yDimension:bigint>,mediaType:string,printMode:string>,printerRegion:bigint,productId:string,reason:string,scanInfo:struct<duplex:string,mediaSizeDetected:struct<height:bigint>,mediaSizeRequested:struct<height:bigint,width:bigint>>,selectabilityNumber:string,selfHeal:struct<actions:array<string>,results:array<string>,selfHealVersion:string>,selfheal:struct<actions:array<string>,results:array<string>,selfhealTest:string>,sequenceNumber:bigint,serialNumber:string,stID:string,stId:string,stateEnabled:boolean,stateStabilisationDelay:bigint,supplyFamilyId:bigint,supplyMarkedEmpty:string,supplyModelNumber:bigint,supplyRegion:bigint,supplyType:bigint,t4:bigint,totalInkUsageGauge:bigint,triggerCategory:string,uapConfig:struct<adminDisabled:string,powered:string>,updateMethod:string,updateSuccess:string,updateTriggerReason:string,updatedFwVersion:string,userConfig:struct<adminDisabled:string,changeCounter:bigint,ipv4ConfigMethod:string,ipv4Enabled:string,ipv6ConfigMethod:string,ipv6Enabled:string,passwdChanged:string,powered:string,ssid:string>,versio:string,version:string,wifiConfig:struct<associatedBssid:string,chanGraph:array<struct<anpi:bigint,channel:bigint,loadPercent:bigint,percentLoad:bigint>>,channelGraphs:array<struct<anpi:bigint,channel:bigint,percentLoad:bigint>>,channelInfos:array<struct<channel:bigint,signalAverage:bigint,signalMax:bigint,signalMin:bigint,singalAverage:bigint,singalMax:bigint,singalMin:bigint,ssidsCount:bigint>>,directedScanCount:bigint,lastAssociationCode:string,lastDeauthReason:bigint,signalQuality:struct<noise:bigint,strength:bigint>,undirectedScanCount:bigint>>,eventDetailType:string,onDurationTime (sec):bigint,powerCycleCount:bigint,sequenceNumber:bigint>]"
      ]
     },
     "execution_count": 72,
     "metadata": {},
     "output_type": "execute_result"
    }
   ],
   "source": [
    "x.unpersist()"
   ]
  },
  {
   "cell_type": "code",
   "execution_count": 50,
   "metadata": {},
   "outputs": [],
   "source": [
    "y = x.select(\"event.eventCategory\")"
   ]
  },
  {
   "cell_type": "code",
   "execution_count": 52,
   "metadata": {},
   "outputs": [
    {
     "name": "stdout",
     "output_type": "stream",
     "text": [
      "+-------------+\n",
      "|eventCategory|\n",
      "+-------------+\n",
      "|       supply|\n",
      "|       supply|\n",
      "|       supply|\n",
      "|       supply|\n",
      "|    jobStatus|\n",
      "|    jobStatus|\n",
      "|  wifiNetwork|\n",
      "|       supply|\n",
      "|       supply|\n",
      "|       supply|\n",
      "|       supply|\n",
      "|       supply|\n",
      "|       supply|\n",
      "|  wifiNetwork|\n",
      "|    jobStatus|\n",
      "|       supply|\n",
      "|       supply|\n",
      "| system_check|\n",
      "|     jobError|\n",
      "|     jobError|\n",
      "+-------------+\n",
      "only showing top 20 rows\n",
      "\n"
     ]
    }
   ],
   "source": [
    "y.show()"
   ]
  },
  {
   "cell_type": "code",
   "execution_count": 65,
   "metadata": {},
   "outputs": [
    {
     "name": "stdout",
     "output_type": "stream",
     "text": [
      "Row(eventCategory='system_check', count=491)\n",
      "Row(eventCategory='systemError', count=64419)\n",
      "Row(eventCategory='printHead', count=12552)\n",
      "Row(eventCategory='fwUpdate', count=24206)\n",
      "Row(eventCategory='wifiNetwork', count=229454)\n",
      "Row(eventCategory='jobStatus', count=73112)\n",
      "Row(eventCategory='testWarning', count=77)\n",
      "Row(eventCategory='errorRecovery', count=25194)\n",
      "Row(eventCategory='systemTest', count=305)\n",
      "Row(eventCategory='jobError', count=235575)\n",
      "Row(eventCategory='testInfo', count=92)\n",
      "Row(eventCategory='info', count=2)\n",
      "Row(eventCategory='test', count=2924)\n",
      "Row(eventCategory='supply', count=744227)\n",
      "Row(eventCategory='userConfigChanged', count=4)\n"
     ]
    }
   ],
   "source": [
    "for t in y.groupby(['eventCategory']).count().collect():\n",
    "    print(t)"
   ]
  },
  {
   "cell_type": "code",
   "execution_count": 55,
   "metadata": {},
   "outputs": [
    {
     "ename": "AttributeError",
     "evalue": "'GroupedData' object has no attribute 'printSchema'",
     "output_type": "error",
     "traceback": [
      "\u001b[0;31m---------------------------------------------------------------------------\u001b[0m",
      "\u001b[0;31mAttributeError\u001b[0m                            Traceback (most recent call last)",
      "\u001b[0;32m<ipython-input-55-486a14996444>\u001b[0m in \u001b[0;36m<module>\u001b[0;34m()\u001b[0m\n\u001b[0;32m----> 1\u001b[0;31m \u001b[0mz\u001b[0m\u001b[0;34m.\u001b[0m\u001b[0mprintSchema\u001b[0m\u001b[0;34m(\u001b[0m\u001b[0;34m)\u001b[0m\u001b[0;34m\u001b[0m\u001b[0m\n\u001b[0m",
      "\u001b[0;31mAttributeError\u001b[0m: 'GroupedData' object has no attribute 'printSchema'"
     ]
    }
   ],
   "source": [
    "z.printSchema()"
   ]
  },
  {
   "cell_type": "code",
   "execution_count": 61,
   "metadata": {},
   "outputs": [],
   "source": [
    "fwall = x.select([\"event.eventCategory\",\"event.eventDetail.firmwareVersion\",\"event.eventDetail.firmwareAssert.code\"])"
   ]
  },
  {
   "cell_type": "code",
   "execution_count": 66,
   "metadata": {},
   "outputs": [],
   "source": [
    "fwasserts = fwall.filter(\"eventCategory == 'systemError'\")"
   ]
  },
  {
   "cell_type": "code",
   "execution_count": 70,
   "metadata": {},
   "outputs": [
    {
     "data": {
      "text/plain": [
       "DataFrame[eventCategory: string, firmwareVersion: string, code: string]"
      ]
     },
     "execution_count": 70,
     "metadata": {},
     "output_type": "execute_result"
    }
   ],
   "source": [
    "fwasserts.cache()"
   ]
  },
  {
   "cell_type": "code",
   "execution_count": 73,
   "metadata": {},
   "outputs": [
    {
     "name": "stdout",
     "output_type": "stream",
     "text": [
      "root\n",
      " |-- eventCategory: string (nullable = true)\n",
      " |-- firmwareVersion: string (nullable = true)\n",
      " |-- code: string (nullable = true)\n",
      "\n"
     ]
    }
   ],
   "source": [
    "fwasserts.printSchema()"
   ]
  },
  {
   "cell_type": "code",
   "execution_count": 74,
   "metadata": {},
   "outputs": [
    {
     "name": "stdout",
     "output_type": "stream",
     "text": [
      "+-------------+---------------+----+\n",
      "|eventCategory|firmwareVersion|code|\n",
      "+-------------+---------------+----+\n",
      "|  systemError|           null|null|\n",
      "|  systemError|           null|null|\n",
      "|  systemError|           null|null|\n",
      "|  systemError|           null|null|\n",
      "|  systemError|           null|null|\n",
      "|  systemError|           null|null|\n",
      "|  systemError|           null|null|\n",
      "|  systemError|           null|null|\n",
      "|  systemError|           null|null|\n",
      "|  systemError|           null|null|\n",
      "|  systemError|           null|null|\n",
      "|  systemError|           null|null|\n",
      "|  systemError|           null|null|\n",
      "|  systemError|           null|null|\n",
      "|  systemError|           null|null|\n",
      "|  systemError|           null|null|\n",
      "|  systemError|           null|null|\n",
      "|  systemError|           null|null|\n",
      "|  systemError|           null|null|\n",
      "|  systemError|           null|null|\n",
      "+-------------+---------------+----+\n",
      "only showing top 20 rows\n",
      "\n"
     ]
    }
   ],
   "source": [
    "fwasserts.show(truncate=200)"
   ]
  },
  {
   "cell_type": "code",
   "execution_count": 75,
   "metadata": {},
   "outputs": [
    {
     "data": {
      "text/plain": [
       "64419"
      ]
     },
     "execution_count": 75,
     "metadata": {},
     "output_type": "execute_result"
    }
   ],
   "source": [
    "fwasserts.count()"
   ]
  },
  {
   "cell_type": "code",
   "execution_count": null,
   "metadata": {},
   "outputs": [],
   "source": []
  }
 ],
 "metadata": {
  "kernelspec": {
   "display_name": "Python 3",
   "language": "python",
   "name": "python3"
  },
  "language_info": {
   "codemirror_mode": {
    "name": "ipython",
    "version": 3
   },
   "file_extension": ".py",
   "mimetype": "text/x-python",
   "name": "python",
   "nbconvert_exporter": "python",
   "pygments_lexer": "ipython3",
   "version": "3.5.2"
  }
 },
 "nbformat": 4,
 "nbformat_minor": 2
}
