{
 "cells": [
  {
   "cell_type": "code",
   "execution_count": 1,
   "metadata": {},
   "outputs": [],
   "source": [
    "# Configure the necessary Spark environment\n",
    "import os\n",
    "import sys\n",
    "\n",
    "spark_home = os.environ.get('SPARK_HOME', None)\n",
    "sys.path.insert(0, spark_home + \"/python\")\n",
    "\n",
    "# Add the py4j to the path.\n",
    "# You may need to change the version number to match your install\n",
    "sys.path.insert(0, os.path.join(spark_home, 'python/lib/py4j-0.8.2.1-src.zip'))\n",
    "\n",
    "# Initialize PySpark to predefine the SparkContext variable 'sc'\n",
    "#execfile(os.path.join(spark_home, 'python/pyspark/shell.py'))"
   ]
  },
  {
   "cell_type": "code",
   "execution_count": 58,
   "metadata": {},
   "outputs": [],
   "source": [
    "from pyspark.sql import SparkSession, SQLContext\n",
    "import json\n"
   ]
  },
  {
   "cell_type": "code",
   "execution_count": 3,
   "metadata": {},
   "outputs": [],
   "source": [
    "spark = SparkSession.builder.appName('Basic').getOrCreate()"
   ]
  },
  {
   "cell_type": "code",
   "execution_count": 8,
   "metadata": {},
   "outputs": [],
   "source": [
    "dbconfig = {\"url\": \"jdbc:postgresql://localhost/qxedb\",\n",
    "            \"dbtable\": \"gateway_eventnotification\",\n",
    "            \"user\": \"hermes\",\n",
    "            \"password\": \"mysecret\",\n",
    "            \"driver\": \"org.postgresql.Driver\"}"
   ]
  },
  {
   "cell_type": "code",
   "execution_count": 9,
   "metadata": {},
   "outputs": [],
   "source": [
    "import os\n",
    "os.environ['PYSPARK_SUBMIT_ARGS'] = '--jars /work/ericr/spark/sparkdev/postgresql.jar pyspark-shell'\n"
   ]
  },
  {
   "cell_type": "code",
   "execution_count": 10,
   "metadata": {},
   "outputs": [],
   "source": [
    "fdf = spark.read.jdbc(url=\"jdbc:postgresql://localhost/qxedb\", \n",
    "                      table=\"gateway_eventnotification\",\n",
    "                      properties=dbconfig)"
   ]
  },
  {
   "cell_type": "code",
   "execution_count": 11,
   "metadata": {},
   "outputs": [],
   "source": []
  },
  {
   "cell_type": "code",
   "execution_count": 69,
   "metadata": {},
   "outputs": [],
   "source": [
    "rdd = fdf.select(\"payload\")"
   ]
  },
  {
   "cell_type": "code",
   "execution_count": 75,
   "metadata": {},
   "outputs": [],
   "source": [
    "nrdd = rdd.rdd.map(lambda r: json.dumps(r[0]))"
   ]
  },
  {
   "cell_type": "code",
   "execution_count": 76,
   "metadata": {},
   "outputs": [],
   "source": [
    "sqlcontext = SQLContext(spark.sparkContext)"
   ]
  },
  {
   "cell_type": "code",
   "execution_count": 84,
   "metadata": {},
   "outputs": [
    {
     "name": "stdout",
     "output_type": "stream",
     "text": [
      "+--------------------+\n",
      "|     _corrupt_record|\n",
      "+--------------------+\n",
      "|\"{\\\"links\\\": [{\\\"...|\n",
      "|\"{\\\"links\\\": [{\\\"...|\n",
      "|\"{\\\"links\\\": [{\\\"...|\n",
      "|\"{\\\"links\\\": [{\\\"...|\n",
      "|\"{\\\"links\\\": [{\\\"...|\n",
      "|\"{\\\"links\\\": [{\\\"...|\n",
      "|\"{\\\"links\\\": [{\\\"...|\n",
      "|\"{\\\"links\\\": [{\\\"...|\n",
      "|\"{\\\"links\\\": [{\\\"...|\n",
      "|\"{\\\"links\\\": [{\\\"...|\n",
      "|\"{\\\"links\\\": [{\\\"...|\n",
      "|\"{\\\"events\\\": [{\\...|\n",
      "|\"{\\\"links\\\": [{\\\"...|\n",
      "|\"{\\\"links\\\": [{\\\"...|\n",
      "|\"{\\\"links\\\": [{\\\"...|\n",
      "|\"{\\\"events\\\": [{\\...|\n",
      "|\"{\\\"links\\\": [{\\\"...|\n",
      "|\"{\\\"links\\\": [{\\\"...|\n",
      "|\"{\\\"links\\\": [{\\\"...|\n",
      "|\"{\\\"links\\\": [{\\\"...|\n",
      "+--------------------+\n",
      "only showing top 20 rows\n",
      "\n"
     ]
    }
   ],
   "source": [
    "sqlcontext.read.json(nrdd, multiLine=True).show()"
   ]
  },
  {
   "cell_type": "code",
   "execution_count": 83,
   "metadata": {},
   "outputs": [
    {
     "name": "stdout",
     "output_type": "stream",
     "text": [
      "+--------------------+\n",
      "|     _corrupt_record|\n",
      "+--------------------+\n",
      "|\"{\\\"links\\\": [{\\\"...|\n",
      "|\"{\\\"links\\\": [{\\\"...|\n",
      "|\"{\\\"links\\\": [{\\\"...|\n",
      "|\"{\\\"links\\\": [{\\\"...|\n",
      "|\"{\\\"links\\\": [{\\\"...|\n",
      "|\"{\\\"links\\\": [{\\\"...|\n",
      "|\"{\\\"links\\\": [{\\\"...|\n",
      "|\"{\\\"links\\\": [{\\\"...|\n",
      "|\"{\\\"links\\\": [{\\\"...|\n",
      "|\"{\\\"links\\\": [{\\\"...|\n",
      "|\"{\\\"links\\\": [{\\\"...|\n",
      "|\"{\\\"events\\\": [{\\...|\n",
      "|\"{\\\"links\\\": [{\\\"...|\n",
      "|\"{\\\"links\\\": [{\\\"...|\n",
      "|\"{\\\"links\\\": [{\\\"...|\n",
      "|\"{\\\"events\\\": [{\\...|\n",
      "|\"{\\\"links\\\": [{\\\"...|\n",
      "|\"{\\\"links\\\": [{\\\"...|\n",
      "|\"{\\\"links\\\": [{\\\"...|\n",
      "|\"{\\\"links\\\": [{\\\"...|\n",
      "+--------------------+\n",
      "only showing top 20 rows\n",
      "\n"
     ]
    }
   ],
   "source": [
    "js.show()"
   ]
  },
  {
   "cell_type": "code",
   "execution_count": 56,
   "metadata": {},
   "outputs": [
    {
     "name": "stdout",
     "output_type": "stream",
     "text": [
      "Row(payload='{\"links\": [{\"rel\": \"eventsByCategory\", \"href\": \"/cdm/telemetry/v1/eventing/events/supply\"}], \"events\": [{\"dateTime\": \"2001-02-19T19:01:42.0Z\", \"eventDetail\": {\"t4\": 19780000, \"brand\": \"HP\", \"isSetup\": \"false\", \"isTrial\": \"false\", \"version\": \"1.0.0\", \"midLabel\": \"00000000000000\", \"eventCode\": \"17.99.32\", \"isRefilled\": \"false\", \"supplyType\": 1, \"installDate\": \"2018-08-13T00:00:00.0Z\", \"eventTrigger\": \"usedConsumable\", \"manufacturer\": \"HP\", \"supplyRegion\": 4, \"inkLevelGauge\": 10514988, \"printerRegion\": 4, \"supplyFamilyId\": 37, \"inkFillCapacity\": 11300000, \"manufactureDate\": \"2018-06-04T00:00:00.0Z\", \"triggerCategory\": \"supplyChanged\", \"supplyMarkedEmpty\": \"false\", \"supplyModelNumber\": 1, \"consumableUniqueId\": \"000000000000000045f0ff19d100088c\", \"totalInkUsageGauge\": 785011, \"consumableLabelCode\": \"M\", \"inkLevelSensorValue\": 54, \"selectabilityNumber\": \"912XL\", \"measuredQuantityState\": \"ok\", \"consumableSerialNumber\": \"560256648\", \"postStartupSupplyVolume\": 0, \"isInstantInkSubscription\": \"false\", \"consumableManufacturingSignature\": \"020101f1126ffa0f8285c448769c641023286cab1acee82f43ccc6b7be426800c0186019ec36be2bca80e84947cbc294521fe51eae1a245306fc10bf96fd023caae3083d0dc42b2a20d1f04655986f9a31657407bb\", \"consumablePercentageLevelRemaining\": 90}, \"eventCategory\": \"supply\", \"sequenceNumber\": 157, \"eventDetailType\": \"com.hp.cdm.service.eventing.resource.eventDetail.type.supply.platform.sirius.version.1\"}], \"version\": \"1.1.0\", \"metadata\": {\"ackToken\": \"aa45cb76-ed2e-4a97-8002-f9d4eb63eea8\"}, \"originator\": {\"originatorDetail\": {\"version\": \"1.0.0\", \"activity\": {\"currentDateTime\": \"2001-02-19T19:01:42.0Z\"}, \"deviceUuid\": \"a37f70c4-d4ac-5900-6e52-ef5ac77696d7\", \"modelNumber\": \"1KR57A\", \"firmwareVersion\": \"MALBECLP3A001.1831B.00\"}, \"originatorDetailType\": \"com.hp.cdm.domain.eventing.resource.originatorDetail.type.printer.platform.sirius.version.1\"}, \"henq_metadata\": {\"ip_addr\": \"15.12.185.71\", \"geolocation\": {\"lat\": 45.6023, \"city\": \"Vancouver\", \"long\": -122.5167, \"state\": \"Washington\", \"country\": \"United States\", \"location_type\": \"internal\"}, \"dateTimeReceived\": \"2018-08-14 15:42:15.072859\"}, \"subscriptionId\": \"144a904d-0ae6-4515-a7fe-facc49aa0e57\"}')\n",
      "Row(payload='{\"links\": [{\"rel\": \"eventsByCategory\", \"href\": \"/cdm/telemetry/v1/eventing/events/supply\"}], \"events\": [{\"dateTime\": \"2001-02-19T19:01:45.0Z\", \"eventDetail\": {\"version\": \"1.0.0\", \"eventCode\": \"17.00.00\", \"eventTrigger\": \"cartridgeFailure\", \"printerRegion\": 4, \"triggerCategory\": \"supplyStateTransition\", \"consumableLabelCode\": \"K\", \"inkLevelSensorValue\": 59}, \"eventCategory\": \"supply\", \"sequenceNumber\": 160, \"eventDetailType\": \"com.hp.cdm.service.eventing.resource.eventDetail.type.supply.platform.sirius.version.1\"}], \"version\": \"1.1.0\", \"metadata\": {\"ackToken\": \"df260be5-4483-47e3-b342-28786269953f\"}, \"originator\": {\"originatorDetail\": {\"version\": \"1.0.0\", \"activity\": {\"currentDateTime\": \"2001-02-19T19:01:45.0Z\"}, \"deviceUuid\": \"a37f70c4-d4ac-5900-6e52-ef5ac77696d7\", \"modelNumber\": \"1KR57A\", \"firmwareVersion\": \"MALBECLP3A001.1831B.00\"}, \"originatorDetailType\": \"com.hp.cdm.domain.eventing.resource.originatorDetail.type.printer.platform.sirius.version.1\"}, \"henq_metadata\": {\"ip_addr\": \"15.12.185.71\", \"geolocation\": {\"lat\": 45.6023, \"city\": \"Vancouver\", \"long\": -122.5167, \"state\": \"Washington\", \"country\": \"United States\", \"location_type\": \"internal\"}, \"dateTimeReceived\": \"2018-08-14 15:42:18.501165\"}, \"subscriptionId\": \"144a904d-0ae6-4515-a7fe-facc49aa0e57\"}')\n",
      "Row(payload='{\"links\": [{\"rel\": \"eventsByCategory\", \"href\": \"/cdm/telemetry/v1/eventing/events/supply\"}], \"events\": [{\"dateTime\": \"2001-02-19T19:01:42.0Z\", \"eventDetail\": {\"t4\": 18290000, \"brand\": \"HP\", \"isSetup\": \"false\", \"isTrial\": \"false\", \"version\": \"1.0.0\", \"midLabel\": \"00000000000000\", \"eventCode\": \"17.99.32\", \"isRefilled\": \"false\", \"supplyType\": 1, \"installDate\": \"2018-08-13T00:00:00.0Z\", \"eventTrigger\": \"usedConsumable\", \"manufacturer\": \"HP\", \"supplyRegion\": 4, \"inkLevelGauge\": 9756491, \"printerRegion\": 4, \"supplyFamilyId\": 37, \"inkFillCapacity\": 10450000, \"manufactureDate\": \"2018-06-04T00:00:00.0Z\", \"triggerCategory\": \"supplyChanged\", \"supplyMarkedEmpty\": \"false\", \"supplyModelNumber\": 1, \"consumableUniqueId\": \"000000000000000045f0ff19d1000447\", \"totalInkUsageGauge\": 693508, \"consumableLabelCode\": \"C\", \"inkLevelSensorValue\": 57, \"selectabilityNumber\": \"912XL\", \"measuredQuantityState\": \"ok\", \"consumableSerialNumber\": \"560510296\", \"postStartupSupplyVolume\": 0, \"isInstantInkSubscription\": \"false\", \"consumableManufacturingSignature\": \"020101f1121bb4cc85ea704d46a4bd8a2c0f05d06d55ee91b082003286e5fbb6b1c13e5228fade8ab902dbe3239068e6d8ed7fc494564c11ea64cab22517ea0f80021a821621164d81471aa1b1070e3e665b4cf954\", \"consumablePercentageLevelRemaining\": 90}, \"eventCategory\": \"supply\", \"sequenceNumber\": 158, \"eventDetailType\": \"com.hp.cdm.service.eventing.resource.eventDetail.type.supply.platform.sirius.version.1\"}, {\"dateTime\": \"2001-02-19T19:01:43.0Z\", \"eventDetail\": {\"t4\": 18200000, \"brand\": \"HP\", \"isSetup\": \"false\", \"isTrial\": \"false\", \"version\": \"1.0.0\", \"midLabel\": \"00000000000000\", \"eventCode\": \"17.99.32\", \"isRefilled\": \"false\", \"supplyType\": 1, \"installDate\": \"2018-08-13T00:00:00.0Z\", \"eventTrigger\": \"usedConsumable\", \"manufacturer\": \"HP\", \"supplyRegion\": 4, \"inkLevelGauge\": 9581513, \"printerRegion\": 4, \"supplyFamilyId\": 37, \"inkFillCapacity\": 10400000, \"manufactureDate\": \"2018-06-04T00:00:00.0Z\", \"triggerCategory\": \"supplyChanged\", \"supplyMarkedEmpty\": \"false\", \"supplyModelNumber\": 1, \"consumableUniqueId\": \"000000000000000045f0ff19d1000a37\", \"totalInkUsageGauge\": 818486, \"consumableLabelCode\": \"Y\", \"inkLevelSensorValue\": 54, \"selectabilityNumber\": \"912XL\", \"measuredQuantityState\": \"ok\", \"consumableSerialNumber\": \"560535184\", \"postStartupSupplyVolume\": 0, \"isInstantInkSubscription\": \"false\", \"consumableManufacturingSignature\": \"020101f112aa0fc16298c64bae9ec600b6774bd80363bd01ef00fd605044fddcde1d08c33c712d14314245a3816837bf6d9b479404916f35db8c4fd5ac0c58001d2ecf77c8217cd5e7ce66df88e3cdce3ea1017671\", \"consumablePercentageLevelRemaining\": 90}, \"eventCategory\": \"supply\", \"sequenceNumber\": 159, \"eventDetailType\": \"com.hp.cdm.service.eventing.resource.eventDetail.type.supply.platform.sirius.version.1\"}], \"version\": \"1.1.0\", \"metadata\": {\"ackToken\": \"b1406c28-681c-4154-989a-26764cbc81d0\"}, \"originator\": {\"originatorDetail\": {\"version\": \"1.0.0\", \"activity\": {\"currentDateTime\": \"2001-02-19T19:01:43.0Z\"}, \"deviceUuid\": \"a37f70c4-d4ac-5900-6e52-ef5ac77696d7\", \"modelNumber\": \"1KR57A\", \"firmwareVersion\": \"MALBECLP3A001.1831B.00\"}, \"originatorDetailType\": \"com.hp.cdm.domain.eventing.resource.originatorDetail.type.printer.platform.sirius.version.1\"}, \"henq_metadata\": {\"ip_addr\": \"15.12.185.71\", \"geolocation\": {\"lat\": 45.6023, \"city\": \"Vancouver\", \"long\": -122.5167, \"state\": \"Washington\", \"country\": \"United States\", \"location_type\": \"internal\"}, \"dateTimeReceived\": \"2018-08-14 15:42:18.057333\"}, \"subscriptionId\": \"144a904d-0ae6-4515-a7fe-facc49aa0e57\"}')\n",
      "Row(payload='{\"links\": [{\"rel\": \"eventsByCategory\", \"href\": \"/cdm/telemetry/v1/eventing/events/jobStatus\"}], \"events\": [{\"dateTime\": \"\", \"eventDetail\": {\"version\": \"1.0.0\", \"dataSource\": \"unknown\", \"ippJobStatus\": {\"jobURI\": \"ipp://hp3c5282ff08bf.local/ipp/print/job-0004\", \"jobName\": \"2018_08_14 15-36-48.jpg (1 page) - HP Smart\", \"jobUuid\": \"urn:uuid:7df6b9c6-76bb-4536-912f-32342b168063\", \"jobState\": \"completed\", \"jobKOctets\": 4294967295, \"jobPrinterURI\": \"ipp://hp3c5282ff08bf.local/ipp/print\", \"jobImpressions\": 1, \"jobMediaSheets\": 1, \"jobStateMessage\": \"\", \"jobStateReasons\": \"none\", \"jobPrinterUpTime\": 1905, \"dateTimeAtCreation\": \"2018-08-14T21:36:55.0Z\", \"dateTimeAtCompleted\": \"2018-08-14T21:37:51.0Z\", \"jobKOctetsProcessed\": 770, \"dateTimeAtProcessing\": \"2018-08-14T21:36:55.0Z\", \"jobOriginatingUserName\": \"mobile\", \"jobImpressionsCompleted\": 1, \"jobMediaSheetsCompleted\": 1}, \"ippMediaSize\": {\"xDimension\": 21590, \"yDimension\": 27940}, \"httpUserAgent\": \"HPSmartiOSPhoto\", \"connectionInfo\": {\"localIpv4Address\": {\"addr\": \"10.0.0.108\", \"subnetMask\": \"255.255.255.0\"}, \"sourceMacAddress\": \"DC:0C:5C:E8:A8:8D\", \"sourceIpv6Address\": {\"addr\": \"fe80::873:5612:e3ee:b0a3\"}, \"sourceInSameSubnet\": \"true\"}}, \"eventCategory\": \"jobStatus\", \"sequenceNumber\": 34, \"eventDetailType\": \"com.hp.cdm.service.eventing.resource.eventDetail.type.jobStatus.platform.sirius.version.1\"}, {\"dateTime\": \"\", \"eventDetail\": {\"version\": \"1.0.0\", \"dataSource\": \"unknown\", \"ippJobStatus\": {\"jobURI\": \"ipp://hp3c5282ff08bf.local/ipp/print/job-0001\", \"jobName\": \"Image (1 page) - HP Smart\", \"jobUuid\": \"urn:uuid:050694fd-55db-4b9b-9599-9981d12e9167\", \"jobState\": \"completed\", \"jobKOctets\": 4294967295, \"jobPrinterURI\": \"ipp://hp3c5282ff08bf.local/ipp/print\", \"jobImpressions\": 1, \"jobMediaSheets\": 1, \"jobStateMessage\": \"\", \"jobStateReasons\": \"none\", \"jobPrinterUpTime\": 1306, \"dateTimeAtCreation\": \"2018-08-14T22:44:08.0Z\", \"dateTimeAtCompleted\": \"2018-08-14T22:45:01.0Z\", \"jobKOctetsProcessed\": 1386, \"dateTimeAtProcessing\": \"2018-08-14T22:44:08.0Z\", \"jobOriginatingUserName\": \"mobile\", \"jobImpressionsCompleted\": 1, \"jobMediaSheetsCompleted\": 1}, \"ippMediaSize\": {\"xDimension\": 21590, \"yDimension\": 27940}, \"httpUserAgent\": \"HPSmartiOSPhoto\", \"connectionInfo\": {\"localIpv4Address\": {\"addr\": \"10.0.0.108\", \"subnetMask\": \"255.255.255.0\"}, \"sourceMacAddress\": \"DC:0C:5C:E8:A8:8D\", \"sourceIpv6Address\": {\"addr\": \"fe80::873:5612:e3ee:b0a3\"}, \"sourceInSameSubnet\": \"true\"}}, \"eventCategory\": \"jobStatus\", \"sequenceNumber\": 35, \"eventDetailType\": \"com.hp.cdm.service.eventing.resource.eventDetail.type.jobStatus.platform.sirius.version.1\"}], \"version\": \"1.1.0\", \"metadata\": {\"ackToken\": \"45f5d0be-705d-446f-876d-d5dda9153e18\"}, \"originator\": {\"originatorDetail\": {\"version\": \"1.0.0\", \"activity\": {\"currentDateTime\": \"\"}, \"deviceUuid\": \"2d5efed8-f4b0-5a5f-3580-1fdc8c5b3300\", \"modelNumber\": \"3DP64A\", \"firmwareVersion\": \"INFNTYLP2A001.1824C.00\"}, \"originatorDetailType\": \"com.hp.cdm.domain.eventing.resource.originatorDetail.type.printer.platform.sirius.version.1\"}, \"henq_metadata\": {\"ip_addr\": \"67.164.190.105\", \"geolocation\": {\"lat\": 39.729, \"city\": \"Denver\", \"long\": -104.9528, \"state\": \"Colorado\", \"country\": \"United States\", \"location_type\": \"external\"}, \"dateTimeReceived\": \"2018-08-14 15:43:24.535463\"}, \"subscriptionId\": \"2827d54c-4b40-4c82-a018-bb3c9997ced4\"}')\n"
     ]
    }
   ],
   "source": [
    "for x in rdd.take(4):\n",
    "    print(x)"
   ]
  },
  {
   "cell_type": "code",
   "execution_count": 61,
   "metadata": {},
   "outputs": [
    {
     "name": "stdout",
     "output_type": "stream",
     "text": [
      "[\"{\\\"links\\\": [{\\\"rel\\\": \\\"eventsByCategory\\\", \\\"href\\\": \\\"/cdm/telemetry/v1/eventing/events/supply\\\"}], \\\"events\\\": [{\\\"dateTime\\\": \\\"2001-02-19T19:01:42.0Z\\\", \\\"eventDetail\\\": {\\\"t4\\\": 19780000, \\\"brand\\\": \\\"HP\\\", \\\"isSetup\\\": \\\"false\\\", \\\"isTrial\\\": \\\"false\\\", \\\"version\\\": \\\"1.0.0\\\", \\\"midLabel\\\": \\\"00000000000000\\\", \\\"eventCode\\\": \\\"17.99.32\\\", \\\"isRefilled\\\": \\\"false\\\", \\\"supplyType\\\": 1, \\\"installDate\\\": \\\"2018-08-13T00:00:00.0Z\\\", \\\"eventTrigger\\\": \\\"usedConsumable\\\", \\\"manufacturer\\\": \\\"HP\\\", \\\"supplyRegion\\\": 4, \\\"inkLevelGauge\\\": 10514988, \\\"printerRegion\\\": 4, \\\"supplyFamilyId\\\": 37, \\\"inkFillCapacity\\\": 11300000, \\\"manufactureDate\\\": \\\"2018-06-04T00:00:00.0Z\\\", \\\"triggerCategory\\\": \\\"supplyChanged\\\", \\\"supplyMarkedEmpty\\\": \\\"false\\\", \\\"supplyModelNumber\\\": 1, \\\"consumableUniqueId\\\": \\\"000000000000000045f0ff19d100088c\\\", \\\"totalInkUsageGauge\\\": 785011, \\\"consumableLabelCode\\\": \\\"M\\\", \\\"inkLevelSensorValue\\\": 54, \\\"selectabilityNumber\\\": \\\"912XL\\\", \\\"measuredQuantityState\\\": \\\"ok\\\", \\\"consumableSerialNumber\\\": \\\"560256648\\\", \\\"postStartupSupplyVolume\\\": 0, \\\"isInstantInkSubscription\\\": \\\"false\\\", \\\"consumableManufacturingSignature\\\": \\\"020101f1126ffa0f8285c448769c641023286cab1acee82f43ccc6b7be426800c0186019ec36be2bca80e84947cbc294521fe51eae1a245306fc10bf96fd023caae3083d0dc42b2a20d1f04655986f9a31657407bb\\\", \\\"consumablePercentageLevelRemaining\\\": 90}, \\\"eventCategory\\\": \\\"supply\\\", \\\"sequenceNumber\\\": 157, \\\"eventDetailType\\\": \\\"com.hp.cdm.service.eventing.resource.eventDetail.type.supply.platform.sirius.version.1\\\"}], \\\"version\\\": \\\"1.1.0\\\", \\\"metadata\\\": {\\\"ackToken\\\": \\\"aa45cb76-ed2e-4a97-8002-f9d4eb63eea8\\\"}, \\\"originator\\\": {\\\"originatorDetail\\\": {\\\"version\\\": \\\"1.0.0\\\", \\\"activity\\\": {\\\"currentDateTime\\\": \\\"2001-02-19T19:01:42.0Z\\\"}, \\\"deviceUuid\\\": \\\"a37f70c4-d4ac-5900-6e52-ef5ac77696d7\\\", \\\"modelNumber\\\": \\\"1KR57A\\\", \\\"firmwareVersion\\\": \\\"MALBECLP3A001.1831B.00\\\"}, \\\"originatorDetailType\\\": \\\"com.hp.cdm.domain.eventing.resource.originatorDetail.type.printer.platform.sirius.version.1\\\"}, \\\"henq_metadata\\\": {\\\"ip_addr\\\": \\\"15.12.185.71\\\", \\\"geolocation\\\": {\\\"lat\\\": 45.6023, \\\"city\\\": \\\"Vancouver\\\", \\\"long\\\": -122.5167, \\\"state\\\": \\\"Washington\\\", \\\"country\\\": \\\"United States\\\", \\\"location_type\\\": \\\"internal\\\"}, \\\"dateTimeReceived\\\": \\\"2018-08-14 15:42:15.072859\\\"}, \\\"subscriptionId\\\": \\\"144a904d-0ae6-4515-a7fe-facc49aa0e57\\\"}\"]\n",
      "[\"{\\\"links\\\": [{\\\"rel\\\": \\\"eventsByCategory\\\", \\\"href\\\": \\\"/cdm/telemetry/v1/eventing/events/supply\\\"}], \\\"events\\\": [{\\\"dateTime\\\": \\\"2001-02-19T19:01:45.0Z\\\", \\\"eventDetail\\\": {\\\"version\\\": \\\"1.0.0\\\", \\\"eventCode\\\": \\\"17.00.00\\\", \\\"eventTrigger\\\": \\\"cartridgeFailure\\\", \\\"printerRegion\\\": 4, \\\"triggerCategory\\\": \\\"supplyStateTransition\\\", \\\"consumableLabelCode\\\": \\\"K\\\", \\\"inkLevelSensorValue\\\": 59}, \\\"eventCategory\\\": \\\"supply\\\", \\\"sequenceNumber\\\": 160, \\\"eventDetailType\\\": \\\"com.hp.cdm.service.eventing.resource.eventDetail.type.supply.platform.sirius.version.1\\\"}], \\\"version\\\": \\\"1.1.0\\\", \\\"metadata\\\": {\\\"ackToken\\\": \\\"df260be5-4483-47e3-b342-28786269953f\\\"}, \\\"originator\\\": {\\\"originatorDetail\\\": {\\\"version\\\": \\\"1.0.0\\\", \\\"activity\\\": {\\\"currentDateTime\\\": \\\"2001-02-19T19:01:45.0Z\\\"}, \\\"deviceUuid\\\": \\\"a37f70c4-d4ac-5900-6e52-ef5ac77696d7\\\", \\\"modelNumber\\\": \\\"1KR57A\\\", \\\"firmwareVersion\\\": \\\"MALBECLP3A001.1831B.00\\\"}, \\\"originatorDetailType\\\": \\\"com.hp.cdm.domain.eventing.resource.originatorDetail.type.printer.platform.sirius.version.1\\\"}, \\\"henq_metadata\\\": {\\\"ip_addr\\\": \\\"15.12.185.71\\\", \\\"geolocation\\\": {\\\"lat\\\": 45.6023, \\\"city\\\": \\\"Vancouver\\\", \\\"long\\\": -122.5167, \\\"state\\\": \\\"Washington\\\", \\\"country\\\": \\\"United States\\\", \\\"location_type\\\": \\\"internal\\\"}, \\\"dateTimeReceived\\\": \\\"2018-08-14 15:42:18.501165\\\"}, \\\"subscriptionId\\\": \\\"144a904d-0ae6-4515-a7fe-facc49aa0e57\\\"}\"]\n",
      "[\"{\\\"links\\\": [{\\\"rel\\\": \\\"eventsByCategory\\\", \\\"href\\\": \\\"/cdm/telemetry/v1/eventing/events/supply\\\"}], \\\"events\\\": [{\\\"dateTime\\\": \\\"2001-02-19T19:01:42.0Z\\\", \\\"eventDetail\\\": {\\\"t4\\\": 18290000, \\\"brand\\\": \\\"HP\\\", \\\"isSetup\\\": \\\"false\\\", \\\"isTrial\\\": \\\"false\\\", \\\"version\\\": \\\"1.0.0\\\", \\\"midLabel\\\": \\\"00000000000000\\\", \\\"eventCode\\\": \\\"17.99.32\\\", \\\"isRefilled\\\": \\\"false\\\", \\\"supplyType\\\": 1, \\\"installDate\\\": \\\"2018-08-13T00:00:00.0Z\\\", \\\"eventTrigger\\\": \\\"usedConsumable\\\", \\\"manufacturer\\\": \\\"HP\\\", \\\"supplyRegion\\\": 4, \\\"inkLevelGauge\\\": 9756491, \\\"printerRegion\\\": 4, \\\"supplyFamilyId\\\": 37, \\\"inkFillCapacity\\\": 10450000, \\\"manufactureDate\\\": \\\"2018-06-04T00:00:00.0Z\\\", \\\"triggerCategory\\\": \\\"supplyChanged\\\", \\\"supplyMarkedEmpty\\\": \\\"false\\\", \\\"supplyModelNumber\\\": 1, \\\"consumableUniqueId\\\": \\\"000000000000000045f0ff19d1000447\\\", \\\"totalInkUsageGauge\\\": 693508, \\\"consumableLabelCode\\\": \\\"C\\\", \\\"inkLevelSensorValue\\\": 57, \\\"selectabilityNumber\\\": \\\"912XL\\\", \\\"measuredQuantityState\\\": \\\"ok\\\", \\\"consumableSerialNumber\\\": \\\"560510296\\\", \\\"postStartupSupplyVolume\\\": 0, \\\"isInstantInkSubscription\\\": \\\"false\\\", \\\"consumableManufacturingSignature\\\": \\\"020101f1121bb4cc85ea704d46a4bd8a2c0f05d06d55ee91b082003286e5fbb6b1c13e5228fade8ab902dbe3239068e6d8ed7fc494564c11ea64cab22517ea0f80021a821621164d81471aa1b1070e3e665b4cf954\\\", \\\"consumablePercentageLevelRemaining\\\": 90}, \\\"eventCategory\\\": \\\"supply\\\", \\\"sequenceNumber\\\": 158, \\\"eventDetailType\\\": \\\"com.hp.cdm.service.eventing.resource.eventDetail.type.supply.platform.sirius.version.1\\\"}, {\\\"dateTime\\\": \\\"2001-02-19T19:01:43.0Z\\\", \\\"eventDetail\\\": {\\\"t4\\\": 18200000, \\\"brand\\\": \\\"HP\\\", \\\"isSetup\\\": \\\"false\\\", \\\"isTrial\\\": \\\"false\\\", \\\"version\\\": \\\"1.0.0\\\", \\\"midLabel\\\": \\\"00000000000000\\\", \\\"eventCode\\\": \\\"17.99.32\\\", \\\"isRefilled\\\": \\\"false\\\", \\\"supplyType\\\": 1, \\\"installDate\\\": \\\"2018-08-13T00:00:00.0Z\\\", \\\"eventTrigger\\\": \\\"usedConsumable\\\", \\\"manufacturer\\\": \\\"HP\\\", \\\"supplyRegion\\\": 4, \\\"inkLevelGauge\\\": 9581513, \\\"printerRegion\\\": 4, \\\"supplyFamilyId\\\": 37, \\\"inkFillCapacity\\\": 10400000, \\\"manufactureDate\\\": \\\"2018-06-04T00:00:00.0Z\\\", \\\"triggerCategory\\\": \\\"supplyChanged\\\", \\\"supplyMarkedEmpty\\\": \\\"false\\\", \\\"supplyModelNumber\\\": 1, \\\"consumableUniqueId\\\": \\\"000000000000000045f0ff19d1000a37\\\", \\\"totalInkUsageGauge\\\": 818486, \\\"consumableLabelCode\\\": \\\"Y\\\", \\\"inkLevelSensorValue\\\": 54, \\\"selectabilityNumber\\\": \\\"912XL\\\", \\\"measuredQuantityState\\\": \\\"ok\\\", \\\"consumableSerialNumber\\\": \\\"560535184\\\", \\\"postStartupSupplyVolume\\\": 0, \\\"isInstantInkSubscription\\\": \\\"false\\\", \\\"consumableManufacturingSignature\\\": \\\"020101f112aa0fc16298c64bae9ec600b6774bd80363bd01ef00fd605044fddcde1d08c33c712d14314245a3816837bf6d9b479404916f35db8c4fd5ac0c58001d2ecf77c8217cd5e7ce66df88e3cdce3ea1017671\\\", \\\"consumablePercentageLevelRemaining\\\": 90}, \\\"eventCategory\\\": \\\"supply\\\", \\\"sequenceNumber\\\": 159, \\\"eventDetailType\\\": \\\"com.hp.cdm.service.eventing.resource.eventDetail.type.supply.platform.sirius.version.1\\\"}], \\\"version\\\": \\\"1.1.0\\\", \\\"metadata\\\": {\\\"ackToken\\\": \\\"b1406c28-681c-4154-989a-26764cbc81d0\\\"}, \\\"originator\\\": {\\\"originatorDetail\\\": {\\\"version\\\": \\\"1.0.0\\\", \\\"activity\\\": {\\\"currentDateTime\\\": \\\"2001-02-19T19:01:43.0Z\\\"}, \\\"deviceUuid\\\": \\\"a37f70c4-d4ac-5900-6e52-ef5ac77696d7\\\", \\\"modelNumber\\\": \\\"1KR57A\\\", \\\"firmwareVersion\\\": \\\"MALBECLP3A001.1831B.00\\\"}, \\\"originatorDetailType\\\": \\\"com.hp.cdm.domain.eventing.resource.originatorDetail.type.printer.platform.sirius.version.1\\\"}, \\\"henq_metadata\\\": {\\\"ip_addr\\\": \\\"15.12.185.71\\\", \\\"geolocation\\\": {\\\"lat\\\": 45.6023, \\\"city\\\": \\\"Vancouver\\\", \\\"long\\\": -122.5167, \\\"state\\\": \\\"Washington\\\", \\\"country\\\": \\\"United States\\\", \\\"location_type\\\": \\\"internal\\\"}, \\\"dateTimeReceived\\\": \\\"2018-08-14 15:42:18.057333\\\"}, \\\"subscriptionId\\\": \\\"144a904d-0ae6-4515-a7fe-facc49aa0e57\\\"}\"]\n",
      "[\"{\\\"links\\\": [{\\\"rel\\\": \\\"eventsByCategory\\\", \\\"href\\\": \\\"/cdm/telemetry/v1/eventing/events/jobStatus\\\"}], \\\"events\\\": [{\\\"dateTime\\\": \\\"\\\", \\\"eventDetail\\\": {\\\"version\\\": \\\"1.0.0\\\", \\\"dataSource\\\": \\\"unknown\\\", \\\"ippJobStatus\\\": {\\\"jobURI\\\": \\\"ipp://hp3c5282ff08bf.local/ipp/print/job-0004\\\", \\\"jobName\\\": \\\"2018_08_14 15-36-48.jpg (1 page) - HP Smart\\\", \\\"jobUuid\\\": \\\"urn:uuid:7df6b9c6-76bb-4536-912f-32342b168063\\\", \\\"jobState\\\": \\\"completed\\\", \\\"jobKOctets\\\": 4294967295, \\\"jobPrinterURI\\\": \\\"ipp://hp3c5282ff08bf.local/ipp/print\\\", \\\"jobImpressions\\\": 1, \\\"jobMediaSheets\\\": 1, \\\"jobStateMessage\\\": \\\"\\\", \\\"jobStateReasons\\\": \\\"none\\\", \\\"jobPrinterUpTime\\\": 1905, \\\"dateTimeAtCreation\\\": \\\"2018-08-14T21:36:55.0Z\\\", \\\"dateTimeAtCompleted\\\": \\\"2018-08-14T21:37:51.0Z\\\", \\\"jobKOctetsProcessed\\\": 770, \\\"dateTimeAtProcessing\\\": \\\"2018-08-14T21:36:55.0Z\\\", \\\"jobOriginatingUserName\\\": \\\"mobile\\\", \\\"jobImpressionsCompleted\\\": 1, \\\"jobMediaSheetsCompleted\\\": 1}, \\\"ippMediaSize\\\": {\\\"xDimension\\\": 21590, \\\"yDimension\\\": 27940}, \\\"httpUserAgent\\\": \\\"HPSmartiOSPhoto\\\", \\\"connectionInfo\\\": {\\\"localIpv4Address\\\": {\\\"addr\\\": \\\"10.0.0.108\\\", \\\"subnetMask\\\": \\\"255.255.255.0\\\"}, \\\"sourceMacAddress\\\": \\\"DC:0C:5C:E8:A8:8D\\\", \\\"sourceIpv6Address\\\": {\\\"addr\\\": \\\"fe80::873:5612:e3ee:b0a3\\\"}, \\\"sourceInSameSubnet\\\": \\\"true\\\"}}, \\\"eventCategory\\\": \\\"jobStatus\\\", \\\"sequenceNumber\\\": 34, \\\"eventDetailType\\\": \\\"com.hp.cdm.service.eventing.resource.eventDetail.type.jobStatus.platform.sirius.version.1\\\"}, {\\\"dateTime\\\": \\\"\\\", \\\"eventDetail\\\": {\\\"version\\\": \\\"1.0.0\\\", \\\"dataSource\\\": \\\"unknown\\\", \\\"ippJobStatus\\\": {\\\"jobURI\\\": \\\"ipp://hp3c5282ff08bf.local/ipp/print/job-0001\\\", \\\"jobName\\\": \\\"Image (1 page) - HP Smart\\\", \\\"jobUuid\\\": \\\"urn:uuid:050694fd-55db-4b9b-9599-9981d12e9167\\\", \\\"jobState\\\": \\\"completed\\\", \\\"jobKOctets\\\": 4294967295, \\\"jobPrinterURI\\\": \\\"ipp://hp3c5282ff08bf.local/ipp/print\\\", \\\"jobImpressions\\\": 1, \\\"jobMediaSheets\\\": 1, \\\"jobStateMessage\\\": \\\"\\\", \\\"jobStateReasons\\\": \\\"none\\\", \\\"jobPrinterUpTime\\\": 1306, \\\"dateTimeAtCreation\\\": \\\"2018-08-14T22:44:08.0Z\\\", \\\"dateTimeAtCompleted\\\": \\\"2018-08-14T22:45:01.0Z\\\", \\\"jobKOctetsProcessed\\\": 1386, \\\"dateTimeAtProcessing\\\": \\\"2018-08-14T22:44:08.0Z\\\", \\\"jobOriginatingUserName\\\": \\\"mobile\\\", \\\"jobImpressionsCompleted\\\": 1, \\\"jobMediaSheetsCompleted\\\": 1}, \\\"ippMediaSize\\\": {\\\"xDimension\\\": 21590, \\\"yDimension\\\": 27940}, \\\"httpUserAgent\\\": \\\"HPSmartiOSPhoto\\\", \\\"connectionInfo\\\": {\\\"localIpv4Address\\\": {\\\"addr\\\": \\\"10.0.0.108\\\", \\\"subnetMask\\\": \\\"255.255.255.0\\\"}, \\\"sourceMacAddress\\\": \\\"DC:0C:5C:E8:A8:8D\\\", \\\"sourceIpv6Address\\\": {\\\"addr\\\": \\\"fe80::873:5612:e3ee:b0a3\\\"}, \\\"sourceInSameSubnet\\\": \\\"true\\\"}}, \\\"eventCategory\\\": \\\"jobStatus\\\", \\\"sequenceNumber\\\": 35, \\\"eventDetailType\\\": \\\"com.hp.cdm.service.eventing.resource.eventDetail.type.jobStatus.platform.sirius.version.1\\\"}], \\\"version\\\": \\\"1.1.0\\\", \\\"metadata\\\": {\\\"ackToken\\\": \\\"45f5d0be-705d-446f-876d-d5dda9153e18\\\"}, \\\"originator\\\": {\\\"originatorDetail\\\": {\\\"version\\\": \\\"1.0.0\\\", \\\"activity\\\": {\\\"currentDateTime\\\": \\\"\\\"}, \\\"deviceUuid\\\": \\\"2d5efed8-f4b0-5a5f-3580-1fdc8c5b3300\\\", \\\"modelNumber\\\": \\\"3DP64A\\\", \\\"firmwareVersion\\\": \\\"INFNTYLP2A001.1824C.00\\\"}, \\\"originatorDetailType\\\": \\\"com.hp.cdm.domain.eventing.resource.originatorDetail.type.printer.platform.sirius.version.1\\\"}, \\\"henq_metadata\\\": {\\\"ip_addr\\\": \\\"67.164.190.105\\\", \\\"geolocation\\\": {\\\"lat\\\": 39.729, \\\"city\\\": \\\"Denver\\\", \\\"long\\\": -104.9528, \\\"state\\\": \\\"Colorado\\\", \\\"country\\\": \\\"United States\\\", \\\"location_type\\\": \\\"external\\\"}, \\\"dateTimeReceived\\\": \\\"2018-08-14 15:43:24.535463\\\"}, \\\"subscriptionId\\\": \\\"2827d54c-4b40-4c82-a018-bb3c9997ced4\\\"}\"]\n"
     ]
    }
   ],
   "source": [
    "for x in nrdd.take(4):\n",
    "    print(x)"
   ]
  },
  {
   "cell_type": "code",
   "execution_count": 77,
   "metadata": {},
   "outputs": [],
   "source": [
    "t = nrdd.take(4)"
   ]
  },
  {
   "cell_type": "code",
   "execution_count": 79,
   "metadata": {},
   "outputs": [
    {
     "data": {
      "text/plain": [
       "str"
      ]
     },
     "execution_count": 79,
     "metadata": {},
     "output_type": "execute_result"
    }
   ],
   "source": [
    "type(t[0])"
   ]
  },
  {
   "cell_type": "code",
   "execution_count": 80,
   "metadata": {},
   "outputs": [
    {
     "data": {
      "text/plain": [
       "'\"{\\\\\"links\\\\\": [{\\\\\"rel\\\\\": \\\\\"eventsByCategory\\\\\", \\\\\"href\\\\\": \\\\\"/cdm/telemetry/v1/eventing/events/supply\\\\\"}], \\\\\"events\\\\\": [{\\\\\"dateTime\\\\\": \\\\\"2001-02-19T19:01:42.0Z\\\\\", \\\\\"eventDetail\\\\\": {\\\\\"t4\\\\\": 19780000, \\\\\"brand\\\\\": \\\\\"HP\\\\\", \\\\\"isSetup\\\\\": \\\\\"false\\\\\", \\\\\"isTrial\\\\\": \\\\\"false\\\\\", \\\\\"version\\\\\": \\\\\"1.0.0\\\\\", \\\\\"midLabel\\\\\": \\\\\"00000000000000\\\\\", \\\\\"eventCode\\\\\": \\\\\"17.99.32\\\\\", \\\\\"isRefilled\\\\\": \\\\\"false\\\\\", \\\\\"supplyType\\\\\": 1, \\\\\"installDate\\\\\": \\\\\"2018-08-13T00:00:00.0Z\\\\\", \\\\\"eventTrigger\\\\\": \\\\\"usedConsumable\\\\\", \\\\\"manufacturer\\\\\": \\\\\"HP\\\\\", \\\\\"supplyRegion\\\\\": 4, \\\\\"inkLevelGauge\\\\\": 10514988, \\\\\"printerRegion\\\\\": 4, \\\\\"supplyFamilyId\\\\\": 37, \\\\\"inkFillCapacity\\\\\": 11300000, \\\\\"manufactureDate\\\\\": \\\\\"2018-06-04T00:00:00.0Z\\\\\", \\\\\"triggerCategory\\\\\": \\\\\"supplyChanged\\\\\", \\\\\"supplyMarkedEmpty\\\\\": \\\\\"false\\\\\", \\\\\"supplyModelNumber\\\\\": 1, \\\\\"consumableUniqueId\\\\\": \\\\\"000000000000000045f0ff19d100088c\\\\\", \\\\\"totalInkUsageGauge\\\\\": 785011, \\\\\"consumableLabelCode\\\\\": \\\\\"M\\\\\", \\\\\"inkLevelSensorValue\\\\\": 54, \\\\\"selectabilityNumber\\\\\": \\\\\"912XL\\\\\", \\\\\"measuredQuantityState\\\\\": \\\\\"ok\\\\\", \\\\\"consumableSerialNumber\\\\\": \\\\\"560256648\\\\\", \\\\\"postStartupSupplyVolume\\\\\": 0, \\\\\"isInstantInkSubscription\\\\\": \\\\\"false\\\\\", \\\\\"consumableManufacturingSignature\\\\\": \\\\\"020101f1126ffa0f8285c448769c641023286cab1acee82f43ccc6b7be426800c0186019ec36be2bca80e84947cbc294521fe51eae1a245306fc10bf96fd023caae3083d0dc42b2a20d1f04655986f9a31657407bb\\\\\", \\\\\"consumablePercentageLevelRemaining\\\\\": 90}, \\\\\"eventCategory\\\\\": \\\\\"supply\\\\\", \\\\\"sequenceNumber\\\\\": 157, \\\\\"eventDetailType\\\\\": \\\\\"com.hp.cdm.service.eventing.resource.eventDetail.type.supply.platform.sirius.version.1\\\\\"}], \\\\\"version\\\\\": \\\\\"1.1.0\\\\\", \\\\\"metadata\\\\\": {\\\\\"ackToken\\\\\": \\\\\"aa45cb76-ed2e-4a97-8002-f9d4eb63eea8\\\\\"}, \\\\\"originator\\\\\": {\\\\\"originatorDetail\\\\\": {\\\\\"version\\\\\": \\\\\"1.0.0\\\\\", \\\\\"activity\\\\\": {\\\\\"currentDateTime\\\\\": \\\\\"2001-02-19T19:01:42.0Z\\\\\"}, \\\\\"deviceUuid\\\\\": \\\\\"a37f70c4-d4ac-5900-6e52-ef5ac77696d7\\\\\", \\\\\"modelNumber\\\\\": \\\\\"1KR57A\\\\\", \\\\\"firmwareVersion\\\\\": \\\\\"MALBECLP3A001.1831B.00\\\\\"}, \\\\\"originatorDetailType\\\\\": \\\\\"com.hp.cdm.domain.eventing.resource.originatorDetail.type.printer.platform.sirius.version.1\\\\\"}, \\\\\"henq_metadata\\\\\": {\\\\\"ip_addr\\\\\": \\\\\"15.12.185.71\\\\\", \\\\\"geolocation\\\\\": {\\\\\"lat\\\\\": 45.6023, \\\\\"city\\\\\": \\\\\"Vancouver\\\\\", \\\\\"long\\\\\": -122.5167, \\\\\"state\\\\\": \\\\\"Washington\\\\\", \\\\\"country\\\\\": \\\\\"United States\\\\\", \\\\\"location_type\\\\\": \\\\\"internal\\\\\"}, \\\\\"dateTimeReceived\\\\\": \\\\\"2018-08-14 15:42:15.072859\\\\\"}, \\\\\"subscriptionId\\\\\": \\\\\"144a904d-0ae6-4515-a7fe-facc49aa0e57\\\\\"}\"'"
      ]
     },
     "execution_count": 80,
     "metadata": {},
     "output_type": "execute_result"
    }
   ],
   "source": [
    "t[0]"
   ]
  },
  {
   "cell_type": "code",
   "execution_count": 70,
   "metadata": {},
   "outputs": [],
   "source": [
    "rdd_t = rdd.take(4)"
   ]
  },
  {
   "cell_type": "code",
   "execution_count": 71,
   "metadata": {},
   "outputs": [
    {
     "data": {
      "text/plain": [
       "pyspark.sql.types.Row"
      ]
     },
     "execution_count": 71,
     "metadata": {},
     "output_type": "execute_result"
    }
   ],
   "source": [
    "type(rdd_t[0])"
   ]
  },
  {
   "cell_type": "code",
   "execution_count": 74,
   "metadata": {},
   "outputs": [
    {
     "data": {
      "text/plain": [
       "'\"{\\\\\"links\\\\\": [{\\\\\"rel\\\\\": \\\\\"eventsByCategory\\\\\", \\\\\"href\\\\\": \\\\\"/cdm/telemetry/v1/eventing/events/supply\\\\\"}], \\\\\"events\\\\\": [{\\\\\"dateTime\\\\\": \\\\\"2001-02-19T19:01:42.0Z\\\\\", \\\\\"eventDetail\\\\\": {\\\\\"t4\\\\\": 19780000, \\\\\"brand\\\\\": \\\\\"HP\\\\\", \\\\\"isSetup\\\\\": \\\\\"false\\\\\", \\\\\"isTrial\\\\\": \\\\\"false\\\\\", \\\\\"version\\\\\": \\\\\"1.0.0\\\\\", \\\\\"midLabel\\\\\": \\\\\"00000000000000\\\\\", \\\\\"eventCode\\\\\": \\\\\"17.99.32\\\\\", \\\\\"isRefilled\\\\\": \\\\\"false\\\\\", \\\\\"supplyType\\\\\": 1, \\\\\"installDate\\\\\": \\\\\"2018-08-13T00:00:00.0Z\\\\\", \\\\\"eventTrigger\\\\\": \\\\\"usedConsumable\\\\\", \\\\\"manufacturer\\\\\": \\\\\"HP\\\\\", \\\\\"supplyRegion\\\\\": 4, \\\\\"inkLevelGauge\\\\\": 10514988, \\\\\"printerRegion\\\\\": 4, \\\\\"supplyFamilyId\\\\\": 37, \\\\\"inkFillCapacity\\\\\": 11300000, \\\\\"manufactureDate\\\\\": \\\\\"2018-06-04T00:00:00.0Z\\\\\", \\\\\"triggerCategory\\\\\": \\\\\"supplyChanged\\\\\", \\\\\"supplyMarkedEmpty\\\\\": \\\\\"false\\\\\", \\\\\"supplyModelNumber\\\\\": 1, \\\\\"consumableUniqueId\\\\\": \\\\\"000000000000000045f0ff19d100088c\\\\\", \\\\\"totalInkUsageGauge\\\\\": 785011, \\\\\"consumableLabelCode\\\\\": \\\\\"M\\\\\", \\\\\"inkLevelSensorValue\\\\\": 54, \\\\\"selectabilityNumber\\\\\": \\\\\"912XL\\\\\", \\\\\"measuredQuantityState\\\\\": \\\\\"ok\\\\\", \\\\\"consumableSerialNumber\\\\\": \\\\\"560256648\\\\\", \\\\\"postStartupSupplyVolume\\\\\": 0, \\\\\"isInstantInkSubscription\\\\\": \\\\\"false\\\\\", \\\\\"consumableManufacturingSignature\\\\\": \\\\\"020101f1126ffa0f8285c448769c641023286cab1acee82f43ccc6b7be426800c0186019ec36be2bca80e84947cbc294521fe51eae1a245306fc10bf96fd023caae3083d0dc42b2a20d1f04655986f9a31657407bb\\\\\", \\\\\"consumablePercentageLevelRemaining\\\\\": 90}, \\\\\"eventCategory\\\\\": \\\\\"supply\\\\\", \\\\\"sequenceNumber\\\\\": 157, \\\\\"eventDetailType\\\\\": \\\\\"com.hp.cdm.service.eventing.resource.eventDetail.type.supply.platform.sirius.version.1\\\\\"}], \\\\\"version\\\\\": \\\\\"1.1.0\\\\\", \\\\\"metadata\\\\\": {\\\\\"ackToken\\\\\": \\\\\"aa45cb76-ed2e-4a97-8002-f9d4eb63eea8\\\\\"}, \\\\\"originator\\\\\": {\\\\\"originatorDetail\\\\\": {\\\\\"version\\\\\": \\\\\"1.0.0\\\\\", \\\\\"activity\\\\\": {\\\\\"currentDateTime\\\\\": \\\\\"2001-02-19T19:01:42.0Z\\\\\"}, \\\\\"deviceUuid\\\\\": \\\\\"a37f70c4-d4ac-5900-6e52-ef5ac77696d7\\\\\", \\\\\"modelNumber\\\\\": \\\\\"1KR57A\\\\\", \\\\\"firmwareVersion\\\\\": \\\\\"MALBECLP3A001.1831B.00\\\\\"}, \\\\\"originatorDetailType\\\\\": \\\\\"com.hp.cdm.domain.eventing.resource.originatorDetail.type.printer.platform.sirius.version.1\\\\\"}, \\\\\"henq_metadata\\\\\": {\\\\\"ip_addr\\\\\": \\\\\"15.12.185.71\\\\\", \\\\\"geolocation\\\\\": {\\\\\"lat\\\\\": 45.6023, \\\\\"city\\\\\": \\\\\"Vancouver\\\\\", \\\\\"long\\\\\": -122.5167, \\\\\"state\\\\\": \\\\\"Washington\\\\\", \\\\\"country\\\\\": \\\\\"United States\\\\\", \\\\\"location_type\\\\\": \\\\\"internal\\\\\"}, \\\\\"dateTimeReceived\\\\\": \\\\\"2018-08-14 15:42:15.072859\\\\\"}, \\\\\"subscriptionId\\\\\": \\\\\"144a904d-0ae6-4515-a7fe-facc49aa0e57\\\\\"}\"'"
      ]
     },
     "execution_count": 74,
     "metadata": {},
     "output_type": "execute_result"
    }
   ],
   "source": [
    "json.dumps(rdd_t[0][0])"
   ]
  },
  {
   "cell_type": "code",
   "execution_count": null,
   "metadata": {},
   "outputs": [],
   "source": []
  }
 ],
 "metadata": {
  "kernelspec": {
   "display_name": "Python 3",
   "language": "python",
   "name": "python3"
  },
  "language_info": {
   "codemirror_mode": {
    "name": "ipython",
    "version": 3
   },
   "file_extension": ".py",
   "mimetype": "text/x-python",
   "name": "python",
   "nbconvert_exporter": "python",
   "pygments_lexer": "ipython3",
   "version": "3.5.2"
  }
 },
 "nbformat": 4,
 "nbformat_minor": 2
}
